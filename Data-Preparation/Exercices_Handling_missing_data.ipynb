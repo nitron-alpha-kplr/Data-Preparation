{
  "cells": [
    {
      "cell_type": "markdown",
      "metadata": {
        "id": "R0MImSXuBzbN"
      },
      "source": [
        "**Exercice 1 :**    \n",
        "- Écrivez un programme Pandas pour détecter les valeurs manquantes d'un DataFrame donné.\n",
        "- Afficher Vrai ou Faux."
      ]
    },
    {
      "cell_type": "code",
      "execution_count": null,
      "metadata": {
        "id": "SH4V3g08BjVe"
      },
      "outputs": [],
      "source": [
        "import pandas as pd\n",
        "import numpy as np\n",
        "pd.set_option('display.max_rows', None)\n",
        "df = pd.DataFrame({\n",
        "'display.max_rows':[70001,np.nan,70002,70004,np.nan,70005,np.nan,70010,70003,70012,np.nan,70013],\n",
        "'purch_amt':[150.5,270.65,65.26,110.5,948.5,2400.6,5760,1983.43,2480.4,250.45, 75.29,3045.6],\n",
        "'ord_date': ['2012-10-05','2012-09-10',np.nan,'2012-08-17','2012-09-10','2012-07-27','2012-09-10','2012-10-10','2012-10-10','2012-06-27','2012-08-17','2012-04-25'],\n",
        "'customer_id':[3002,3001,3001,3003,3002,3001,3001,3004,3003,3002,3001,3001],\n",
        "'salesman_id':[5002,5003,5001,np.nan,5002,5001,5001,np.nan,5003,5002,5003,np.nan]})"
      ]
    },
    {
      "cell_type": "code",
      "execution_count": 6,
      "metadata": {
        "id": "NRFCXILaCB5O",
        "outputId": "31567162-1692-499d-b400-4306f48e0526",
        "colab": {
          "base_uri": "https://localhost:8080/"
        }
      },
      "outputs": [
        {
          "output_type": "stream",
          "name": "stdout",
          "text": [
            "    ord_no  purch_amt    ord_date  customer_id  salesman_id\n",
            "0  70001.0     150.50  2012-10-05         3002       5002.0\n",
            "1      NaN     270.65  2012-09-10         3001       5003.0\n",
            "2  70002.0      65.26         NaN         3001       5001.0\n",
            "3  70004.0     110.50  2012-08-17         3003          NaN\n",
            "4      NaN     948.50  2012-09-10         3002       5002.0\n"
          ]
        }
      ],
      "source": [
        "#solution\n",
        "print(df.head())"
      ]
    },
    {
      "cell_type": "code",
      "source": [
        "print(df['ord_no'].isnull())"
      ],
      "metadata": {
        "id": "8kyCctz_NrrC",
        "outputId": "96de8f0f-868b-4e7b-e9d5-2da4beb24268",
        "colab": {
          "base_uri": "https://localhost:8080/"
        }
      },
      "execution_count": 14,
      "outputs": [
        {
          "output_type": "stream",
          "name": "stdout",
          "text": [
            "0     False\n",
            "1      True\n",
            "2     False\n",
            "3     False\n",
            "4      True\n",
            "5     False\n",
            "6      True\n",
            "7     False\n",
            "8     False\n",
            "9     False\n",
            "10     True\n",
            "11    False\n",
            "Name: ord_no, dtype: bool\n"
          ]
        }
      ]
    },
    {
      "cell_type": "code",
      "source": [
        "print(df.isnull().sum())"
      ],
      "metadata": {
        "id": "0qXSG7cUQzpl",
        "outputId": "63afb5ea-dec7-499d-f35e-ba1ff47f3cbc",
        "colab": {
          "base_uri": "https://localhost:8080/"
        }
      },
      "execution_count": 20,
      "outputs": [
        {
          "output_type": "stream",
          "name": "stdout",
          "text": [
            "ord_no         4\n",
            "purch_amt      0\n",
            "ord_date       1\n",
            "customer_id    0\n",
            "salesman_id    3\n",
            "dtype: int64\n"
          ]
        }
      ]
    },
    {
      "cell_type": "code",
      "source": [
        "# des valeurs manquantes?\n",
        "print(df.isnull().values.any())"
      ],
      "metadata": {
        "id": "LlSjAj5zQ-9O",
        "outputId": "5c5fab9c-fb8b-4a8d-fd9f-409125d32d30",
        "colab": {
          "base_uri": "https://localhost:8080/"
        }
      },
      "execution_count": 21,
      "outputs": [
        {
          "output_type": "stream",
          "name": "stdout",
          "text": [
            "True\n"
          ]
        }
      ]
    },
    {
      "cell_type": "code",
      "source": [
        "# Nombre total de valeurs manquantes\n",
        "print(df.isnull().sum().sum())"
      ],
      "metadata": {
        "id": "yERtLF5bRKCa",
        "outputId": "efa697cc-1ff6-4a96-e3b6-b2668ae2ab94",
        "colab": {
          "base_uri": "https://localhost:8080/"
        }
      },
      "execution_count": 22,
      "outputs": [
        {
          "output_type": "stream",
          "name": "stdout",
          "text": [
            "8\n"
          ]
        }
      ]
    },
    {
      "cell_type": "code",
      "source": [
        "df['ord_no'].fillna(125, inplace=True)\n",
        "print(df.head())\n"
      ],
      "metadata": {
        "id": "V7m9EUubRvhy",
        "outputId": "d18210fd-2760-4d1d-9ca4-42c07d8beda6",
        "colab": {
          "base_uri": "https://localhost:8080/"
        }
      },
      "execution_count": 27,
      "outputs": [
        {
          "output_type": "stream",
          "name": "stdout",
          "text": [
            "    ord_no  purch_amt    ord_date  customer_id  salesman_id\n",
            "0  70001.0     150.50  2012-10-05         3002       5002.0\n",
            "1    125.0     270.65  2012-09-10         3001       5003.0\n",
            "2  70002.0      65.26         NaN         3001       5001.0\n",
            "3  70004.0     110.50  2012-08-17         3003          NaN\n",
            "4    125.0     948.50  2012-09-10         3002       5002.0\n"
          ]
        }
      ]
    },
    {
      "cell_type": "markdown",
      "metadata": {
        "id": "nvjdBMt3CXhk"
      },
      "source": [
        "**Exercice 2 :**\n",
        "\n",
        "- Écrivez un programme Pandas pour identifier la ou les colonnes de DataFrame  qui ont au moins une valeur manquante."
      ]
    },
    {
      "cell_type": "code",
      "execution_count": null,
      "metadata": {
        "id": "fj_hvQyLCsNy"
      },
      "outputs": [],
      "source": [
        "#solution \n",
        "missing_values = [\"n/a\", \"na\", \"--\"]\n",
        "df = pd.DataFrame(\"ord_no\", na_values = missing_values)"
      ]
    },
    {
      "cell_type": "markdown",
      "metadata": {
        "id": "RWUVuT3sDTA3"
      },
      "source": [
        "**Exercice 3 :**   \n",
        "- Écrivez un programme Pandas pour compter le nombre de valeurs manquantes dans chaque colonne d'un DataFrame."
      ]
    },
    {
      "cell_type": "code",
      "execution_count": 28,
      "metadata": {
        "id": "W0u-gGstDnKE",
        "outputId": "99fa7b4f-11f0-4d59-899c-c6190cf1a8eb",
        "colab": {
          "base_uri": "https://localhost:8080/"
        }
      },
      "outputs": [
        {
          "output_type": "stream",
          "name": "stdout",
          "text": [
            "    ord_no  purch_amt  ord_date  customer_id  salesman_id\n",
            "0    False      False     False        False        False\n",
            "1    False      False     False        False        False\n",
            "2    False      False      True        False        False\n",
            "3    False      False     False        False         True\n",
            "4    False      False     False        False        False\n",
            "5    False      False     False        False        False\n",
            "6    False      False     False        False        False\n",
            "7    False      False     False        False         True\n",
            "8    False      False     False        False        False\n",
            "9    False      False     False        False        False\n",
            "10   False      False     False        False        False\n",
            "11   False      False     False        False         True\n"
          ]
        }
      ],
      "source": [
        "#solution\n",
        "print(df.isna())"
      ]
    },
    {
      "cell_type": "markdown",
      "metadata": {
        "id": "9sIRBbNODtML"
      },
      "source": [
        "**Exercice 4 :**     \n",
        "- Écrivez un programme Pandas pour rechercher et remplacer les valeurs manquantes dans un DataFrame  qui ne contiennent aucune information précieuse."
      ]
    },
    {
      "cell_type": "code",
      "execution_count": 29,
      "metadata": {
        "id": "nV-J8gyNED_C",
        "outputId": "ee2f443c-c8fc-40e7-de13-2761376266c5",
        "colab": {
          "base_uri": "https://localhost:8080/"
        }
      },
      "outputs": [
        {
          "output_type": "stream",
          "name": "stdout",
          "text": [
            "     ord_no  purch_amt    ord_date  customer_id  salesman_id\n",
            "0   70001.0     150.50  2012-10-05         3002       5002.0\n",
            "1     125.0     270.65  2012-09-10         3001       5003.0\n",
            "2   70002.0      65.26           0         3001       5001.0\n",
            "3   70004.0     110.50  2012-08-17         3003          0.0\n",
            "4     125.0     948.50  2012-09-10         3002       5002.0\n",
            "5   70005.0    2400.60  2012-07-27         3001       5001.0\n",
            "6     125.0    5760.00  2012-09-10         3001       5001.0\n",
            "7   70010.0    1983.43  2012-10-10         3004          0.0\n",
            "8   70003.0    2480.40  2012-10-10         3003       5003.0\n",
            "9   70012.0     250.45  2012-06-27         3002       5002.0\n",
            "10    125.0      75.29  2012-08-17         3001       5003.0\n",
            "11  70013.0    3045.60  2012-04-25         3001          0.0\n"
          ]
        }
      ],
      "source": [
        "#solution\n",
        "\n",
        "print(df.fillna(0))"
      ]
    },
    {
      "cell_type": "markdown",
      "metadata": {
        "id": "sLU1-DpREYAm"
      },
      "source": [
        "**Exercice 5:**   \n",
        "- Écrivez un programme Pandas pour supprimer les lignes où au moins un élément manque dans un DataFrame."
      ]
    },
    {
      "cell_type": "code",
      "execution_count": 31,
      "metadata": {
        "id": "nrTZgJQVEeW5",
        "outputId": "8325df59-d166-4122-b38e-ad178175257c",
        "colab": {
          "base_uri": "https://localhost:8080/"
        }
      },
      "outputs": [
        {
          "output_type": "stream",
          "name": "stderr",
          "text": [
            "<ipython-input-31-abb0920ef5ed>:2: FutureWarning: In a future version of pandas all arguments of DataFrame.drop except for the argument 'labels' will be keyword-only.\n",
            "  df.drop(7,0,inplace=True)\n"
          ]
        }
      ],
      "source": [
        "#solution\n",
        "df.drop(7,0,inplace=True)"
      ]
    },
    {
      "cell_type": "markdown",
      "metadata": {
        "id": "bhbe-NNVE7h7"
      },
      "source": [
        "**Exercice 6:**\n",
        "\n",
        "- Écrivez un programme Pandas pour supprimer les colonnes où au moins un élément manque dans un DataFrame."
      ]
    },
    {
      "cell_type": "code",
      "execution_count": 32,
      "metadata": {
        "id": "MlnHPPB4EvIc"
      },
      "outputs": [],
      "source": [
        "#solution\n",
        "del df['ord_date']"
      ]
    },
    {
      "cell_type": "markdown",
      "metadata": {
        "id": "e05WjcWZFMNH"
      },
      "source": [
        "**Exercice 7:**\n",
        "- Écrivez un programme Pandas pour supprimer les lignes où tous les éléments manquent dans un DataFrame ."
      ]
    },
    {
      "cell_type": "code",
      "execution_count": null,
      "metadata": {
        "id": "30pENZQ8FVXz"
      },
      "outputs": [],
      "source": [
        "#solution\n",
        " df.drop([1,5,7,9],0,inplace=True)"
      ]
    },
    {
      "cell_type": "markdown",
      "metadata": {
        "id": "81ogv0mOFhKa"
      },
      "source": [
        "**Exercice 8:**\n",
        "- Écrivez un programme Pandas pour conserver les lignes avec au moins 2 valeurs NaN dans un DataFrame."
      ]
    },
    {
      "cell_type": "code",
      "execution_count": null,
      "metadata": {
        "id": "JDJE5SuCFobL"
      },
      "outputs": [],
      "source": [
        "#solution\n",
        "DataFrame.dropna()"
      ]
    },
    {
      "cell_type": "markdown",
      "metadata": {
        "id": "kGFFb4PCF6La"
      },
      "source": [
        "**Exercice 9:**\n",
        "- Écrivez un programme Pandas pour supprimer ces lignes d'un DataFrame dans lequel des colonnes spécifiques ont des valeurs manquantes."
      ]
    },
    {
      "cell_type": "code",
      "execution_count": null,
      "metadata": {
        "id": "UWr_qlw5GC_V"
      },
      "outputs": [],
      "source": [
        "#solution\n",
        "df.drop([2], 0, inplace=True)"
      ]
    },
    {
      "cell_type": "markdown",
      "metadata": {
        "id": "hHJZ9XLlHlkd"
      },
      "source": [
        "**Exercice 10:**\n",
        "- Écrivez un programme Pandas pour conserver les entrées valides d'un DataFrame."
      ]
    },
    {
      "cell_type": "code",
      "execution_count": 34,
      "metadata": {
        "id": "dLE2BFhiIj6e",
        "outputId": "56b27190-ded6-45ae-f858-158b365db95e",
        "colab": {
          "base_uri": "https://localhost:8080/"
        }
      },
      "outputs": [
        {
          "output_type": "stream",
          "name": "stdout",
          "text": [
            "<class 'pandas.core.frame.DataFrame'>\n",
            "Int64Index: 11 entries, 0 to 11\n",
            "Data columns (total 4 columns):\n",
            " #   Column       Non-Null Count  Dtype  \n",
            "---  ------       --------------  -----  \n",
            " 0   ord_no       11 non-null     float64\n",
            " 1   purch_amt    11 non-null     float64\n",
            " 2   customer_id  11 non-null     int64  \n",
            " 3   salesman_id  9 non-null      float64\n",
            "dtypes: float64(3), int64(1)\n",
            "memory usage: 440.0 bytes\n"
          ]
        }
      ],
      "source": [
        "#solution\n",
        "\t\n",
        "df.info()"
      ]
    },
    {
      "cell_type": "markdown",
      "metadata": {
        "id": "4eY7PZQEH4Jx"
      },
      "source": [
        "**Exercice 11 :**\n",
        "- Écrivez un programme Pandas pour calculer le nombre total de valeurs manquantes dans un DataFrame."
      ]
    },
    {
      "cell_type": "code",
      "execution_count": 35,
      "metadata": {
        "id": "WatIJeXeIljq",
        "outputId": "da90ad05-029e-4cda-bb3b-92458c66f002",
        "colab": {
          "base_uri": "https://localhost:8080/"
        }
      },
      "outputs": [
        {
          "output_type": "stream",
          "name": "stdout",
          "text": [
            "0     0\n",
            "1     0\n",
            "2     0\n",
            "3     1\n",
            "4     0\n",
            "5     0\n",
            "6     0\n",
            "8     0\n",
            "9     0\n",
            "10    0\n",
            "11    1\n",
            "dtype: int64\n"
          ]
        }
      ],
      "source": [
        "#solution\n",
        "print(df.isnull().sum(axis=1))"
      ]
    },
    {
      "cell_type": "markdown",
      "metadata": {
        "id": "uKISlwI_JN87"
      },
      "source": [
        "**Exercice 12:**\n",
        "- Écrivez un programme Pandas pour remplacer NaNs par une seule valeur constante dans des colonnes spécifiées dans un DataFrame."
      ]
    },
    {
      "cell_type": "code",
      "execution_count": 36,
      "metadata": {
        "id": "w_UAKrYvJV98",
        "outputId": "2d9d8a6c-dc18-4a8f-9f99-b271b910a48d",
        "colab": {
          "base_uri": "https://localhost:8080/",
          "height": 394
        }
      },
      "outputs": [
        {
          "output_type": "execute_result",
          "data": {
            "text/plain": [
              "     ord_no  purch_amt  customer_id  salesman_id\n",
              "0   70001.0     150.50         3002       5002.0\n",
              "1     125.0     270.65         3001       5003.0\n",
              "2   70002.0      65.26         3001       5001.0\n",
              "3   70004.0     110.50         3003       5001.0\n",
              "4     125.0     948.50         3002       5002.0\n",
              "5   70005.0    2400.60         3001       5001.0\n",
              "6     125.0    5760.00         3001       5001.0\n",
              "8   70003.0    2480.40         3003       5003.0\n",
              "9   70012.0     250.45         3002       5002.0\n",
              "10    125.0      75.29         3001       5003.0\n",
              "11  70013.0    3045.60         3001       5003.0"
            ],
            "text/html": [
              "\n",
              "  <div id=\"df-fb845ad0-c9c1-4313-bdd1-1c9b0f5c513d\">\n",
              "    <div class=\"colab-df-container\">\n",
              "      <div>\n",
              "<style scoped>\n",
              "    .dataframe tbody tr th:only-of-type {\n",
              "        vertical-align: middle;\n",
              "    }\n",
              "\n",
              "    .dataframe tbody tr th {\n",
              "        vertical-align: top;\n",
              "    }\n",
              "\n",
              "    .dataframe thead th {\n",
              "        text-align: right;\n",
              "    }\n",
              "</style>\n",
              "<table border=\"1\" class=\"dataframe\">\n",
              "  <thead>\n",
              "    <tr style=\"text-align: right;\">\n",
              "      <th></th>\n",
              "      <th>ord_no</th>\n",
              "      <th>purch_amt</th>\n",
              "      <th>customer_id</th>\n",
              "      <th>salesman_id</th>\n",
              "    </tr>\n",
              "  </thead>\n",
              "  <tbody>\n",
              "    <tr>\n",
              "      <th>0</th>\n",
              "      <td>70001.0</td>\n",
              "      <td>150.50</td>\n",
              "      <td>3002</td>\n",
              "      <td>5002.0</td>\n",
              "    </tr>\n",
              "    <tr>\n",
              "      <th>1</th>\n",
              "      <td>125.0</td>\n",
              "      <td>270.65</td>\n",
              "      <td>3001</td>\n",
              "      <td>5003.0</td>\n",
              "    </tr>\n",
              "    <tr>\n",
              "      <th>2</th>\n",
              "      <td>70002.0</td>\n",
              "      <td>65.26</td>\n",
              "      <td>3001</td>\n",
              "      <td>5001.0</td>\n",
              "    </tr>\n",
              "    <tr>\n",
              "      <th>3</th>\n",
              "      <td>70004.0</td>\n",
              "      <td>110.50</td>\n",
              "      <td>3003</td>\n",
              "      <td>5001.0</td>\n",
              "    </tr>\n",
              "    <tr>\n",
              "      <th>4</th>\n",
              "      <td>125.0</td>\n",
              "      <td>948.50</td>\n",
              "      <td>3002</td>\n",
              "      <td>5002.0</td>\n",
              "    </tr>\n",
              "    <tr>\n",
              "      <th>5</th>\n",
              "      <td>70005.0</td>\n",
              "      <td>2400.60</td>\n",
              "      <td>3001</td>\n",
              "      <td>5001.0</td>\n",
              "    </tr>\n",
              "    <tr>\n",
              "      <th>6</th>\n",
              "      <td>125.0</td>\n",
              "      <td>5760.00</td>\n",
              "      <td>3001</td>\n",
              "      <td>5001.0</td>\n",
              "    </tr>\n",
              "    <tr>\n",
              "      <th>8</th>\n",
              "      <td>70003.0</td>\n",
              "      <td>2480.40</td>\n",
              "      <td>3003</td>\n",
              "      <td>5003.0</td>\n",
              "    </tr>\n",
              "    <tr>\n",
              "      <th>9</th>\n",
              "      <td>70012.0</td>\n",
              "      <td>250.45</td>\n",
              "      <td>3002</td>\n",
              "      <td>5002.0</td>\n",
              "    </tr>\n",
              "    <tr>\n",
              "      <th>10</th>\n",
              "      <td>125.0</td>\n",
              "      <td>75.29</td>\n",
              "      <td>3001</td>\n",
              "      <td>5003.0</td>\n",
              "    </tr>\n",
              "    <tr>\n",
              "      <th>11</th>\n",
              "      <td>70013.0</td>\n",
              "      <td>3045.60</td>\n",
              "      <td>3001</td>\n",
              "      <td>5003.0</td>\n",
              "    </tr>\n",
              "  </tbody>\n",
              "</table>\n",
              "</div>\n",
              "      <button class=\"colab-df-convert\" onclick=\"convertToInteractive('df-fb845ad0-c9c1-4313-bdd1-1c9b0f5c513d')\"\n",
              "              title=\"Convert this dataframe to an interactive table.\"\n",
              "              style=\"display:none;\">\n",
              "        \n",
              "  <svg xmlns=\"http://www.w3.org/2000/svg\" height=\"24px\"viewBox=\"0 0 24 24\"\n",
              "       width=\"24px\">\n",
              "    <path d=\"M0 0h24v24H0V0z\" fill=\"none\"/>\n",
              "    <path d=\"M18.56 5.44l.94 2.06.94-2.06 2.06-.94-2.06-.94-.94-2.06-.94 2.06-2.06.94zm-11 1L8.5 8.5l.94-2.06 2.06-.94-2.06-.94L8.5 2.5l-.94 2.06-2.06.94zm10 10l.94 2.06.94-2.06 2.06-.94-2.06-.94-.94-2.06-.94 2.06-2.06.94z\"/><path d=\"M17.41 7.96l-1.37-1.37c-.4-.4-.92-.59-1.43-.59-.52 0-1.04.2-1.43.59L10.3 9.45l-7.72 7.72c-.78.78-.78 2.05 0 2.83L4 21.41c.39.39.9.59 1.41.59.51 0 1.02-.2 1.41-.59l7.78-7.78 2.81-2.81c.8-.78.8-2.07 0-2.86zM5.41 20L4 18.59l7.72-7.72 1.47 1.35L5.41 20z\"/>\n",
              "  </svg>\n",
              "      </button>\n",
              "      \n",
              "  <style>\n",
              "    .colab-df-container {\n",
              "      display:flex;\n",
              "      flex-wrap:wrap;\n",
              "      gap: 12px;\n",
              "    }\n",
              "\n",
              "    .colab-df-convert {\n",
              "      background-color: #E8F0FE;\n",
              "      border: none;\n",
              "      border-radius: 50%;\n",
              "      cursor: pointer;\n",
              "      display: none;\n",
              "      fill: #1967D2;\n",
              "      height: 32px;\n",
              "      padding: 0 0 0 0;\n",
              "      width: 32px;\n",
              "    }\n",
              "\n",
              "    .colab-df-convert:hover {\n",
              "      background-color: #E2EBFA;\n",
              "      box-shadow: 0px 1px 2px rgba(60, 64, 67, 0.3), 0px 1px 3px 1px rgba(60, 64, 67, 0.15);\n",
              "      fill: #174EA6;\n",
              "    }\n",
              "\n",
              "    [theme=dark] .colab-df-convert {\n",
              "      background-color: #3B4455;\n",
              "      fill: #D2E3FC;\n",
              "    }\n",
              "\n",
              "    [theme=dark] .colab-df-convert:hover {\n",
              "      background-color: #434B5C;\n",
              "      box-shadow: 0px 1px 3px 1px rgba(0, 0, 0, 0.15);\n",
              "      filter: drop-shadow(0px 1px 2px rgba(0, 0, 0, 0.3));\n",
              "      fill: #FFFFFF;\n",
              "    }\n",
              "  </style>\n",
              "\n",
              "      <script>\n",
              "        const buttonEl =\n",
              "          document.querySelector('#df-fb845ad0-c9c1-4313-bdd1-1c9b0f5c513d button.colab-df-convert');\n",
              "        buttonEl.style.display =\n",
              "          google.colab.kernel.accessAllowed ? 'block' : 'none';\n",
              "\n",
              "        async function convertToInteractive(key) {\n",
              "          const element = document.querySelector('#df-fb845ad0-c9c1-4313-bdd1-1c9b0f5c513d');\n",
              "          const dataTable =\n",
              "            await google.colab.kernel.invokeFunction('convertToInteractive',\n",
              "                                                     [key], {});\n",
              "          if (!dataTable) return;\n",
              "\n",
              "          const docLinkHtml = 'Like what you see? Visit the ' +\n",
              "            '<a target=\"_blank\" href=https://colab.research.google.com/notebooks/data_table.ipynb>data table notebook</a>'\n",
              "            + ' to learn more about interactive tables.';\n",
              "          element.innerHTML = '';\n",
              "          dataTable['output_type'] = 'display_data';\n",
              "          await google.colab.output.renderOutput(dataTable, element);\n",
              "          const docLink = document.createElement('div');\n",
              "          docLink.innerHTML = docLinkHtml;\n",
              "          element.appendChild(docLink);\n",
              "        }\n",
              "      </script>\n",
              "    </div>\n",
              "  </div>\n",
              "  "
            ]
          },
          "metadata": {},
          "execution_count": 36
        }
      ],
      "source": [
        "#solution\n",
        "df.replace()"
      ]
    },
    {
      "cell_type": "markdown",
      "metadata": {
        "id": "J1iOSzUSJan4"
      },
      "source": [
        "**Exercice 13:**\n",
        "- Écrivez un programme Pandas pour remplacer NaNs par la valeur de la ligne précédente ou de la ligne suivante dans un DataFrame."
      ]
    },
    {
      "cell_type": "code",
      "execution_count": 37,
      "metadata": {
        "id": "w9r3XddMJ-OK",
        "outputId": "09b1d3ba-8e31-4f64-d501-909fbb1df28d",
        "colab": {
          "base_uri": "https://localhost:8080/"
        }
      },
      "outputs": [
        {
          "output_type": "execute_result",
          "data": {
            "text/plain": [
              "<bound method DataFrame.sort_values of      ord_no  purch_amt  customer_id  salesman_id\n",
              "0   70001.0     150.50         3002       5002.0\n",
              "1     125.0     270.65         3001       5003.0\n",
              "2   70002.0      65.26         3001       5001.0\n",
              "3   70004.0     110.50         3003          NaN\n",
              "4     125.0     948.50         3002       5002.0\n",
              "5   70005.0    2400.60         3001       5001.0\n",
              "6     125.0    5760.00         3001       5001.0\n",
              "8   70003.0    2480.40         3003       5003.0\n",
              "9   70012.0     250.45         3002       5002.0\n",
              "10    125.0      75.29         3001       5003.0\n",
              "11  70013.0    3045.60         3001          NaN>"
            ]
          },
          "metadata": {},
          "execution_count": 37
        }
      ],
      "source": [
        "#solution\n",
        "df.sort_values"
      ]
    },
    {
      "cell_type": "markdown",
      "metadata": {
        "id": "8k7GnXSiKGmD"
      },
      "source": [
        "**Exercice 14:**\n",
        "- Écrivez un programme Pandas pour remplacer les NaN par la médiane ou la moyenne des colonnes spécifiées dans un DataFrame."
      ]
    },
    {
      "cell_type": "code",
      "execution_count": 38,
      "metadata": {
        "id": "JHck0PKmKdAR"
      },
      "outputs": [],
      "source": [
        "pd.set_option('display.max_rows', None)\n",
        "df = pd.DataFrame({\n",
        "'ord_no':[70001,np.nan,70002,70004,np.nan,70005,np.nan,70010,70003,70012,np.nan,70013],\n",
        "'purch_amt':[150.5,np.nan,65.26,110.5,948.5,np.nan,5760,1983.43,np.nan,250.45, 75.29,3045.6],\n",
        "'sale_amt':[10.5,20.65,np.nan,11.5,98.5,np.nan,57,19.43,np.nan,25.45, 75.29,35.6],\n",
        "'ord_date': ['2012-10-05','2012-09-10',np.nan,'2012-08-17','2012-09-10','2012-07-27','2012-09-10','2012-10-10','2012-10-10','2012-06-27','2012-08-17','2012-04-25'],\n",
        "'customer_id':[3002,3001,3001,3003,3002,3001,3001,3004,3003,3002,3001,3001],\n",
        "'salesman_id':[5002,5003,5001,np.nan,5002,5001,5001,np.nan,5003,5002,5003,np.nan]})"
      ]
    },
    {
      "cell_type": "code",
      "execution_count": 39,
      "metadata": {
        "id": "I7REsFsAKQ1o",
        "outputId": "3b3ece67-920c-4d7e-afad-37d1f33cf11a",
        "colab": {
          "base_uri": "https://localhost:8080/"
        }
      },
      "outputs": [
        {
          "output_type": "stream",
          "name": "stderr",
          "text": [
            "<ipython-input-39-e19b19b2f1b9>:2: FutureWarning: Dropping of nuisance columns in DataFrame reductions (with 'numeric_only=None') is deprecated; in a future version this will raise TypeError.  Select only valid columns before calling the reduction.\n",
            "  df.fillna(df.mean(), inplace=True)\n"
          ]
        }
      ],
      "source": [
        "#solution\n",
        "df.fillna(df.mean(), inplace=True)"
      ]
    }
  ],
  "metadata": {
    "kernelspec": {
      "display_name": "Python 3",
      "name": "python3"
    },
    "language_info": {
      "name": "python"
    },
    "colab": {
      "provenance": []
    }
  },
  "nbformat": 4,
  "nbformat_minor": 0
}