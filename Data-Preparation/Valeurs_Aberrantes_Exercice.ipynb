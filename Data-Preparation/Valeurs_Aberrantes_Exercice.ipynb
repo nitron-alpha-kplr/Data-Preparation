{
  "cells": [
    {
      "cell_type": "markdown",
      "metadata": {
        "id": "ApFuzT_ojBqa"
      },
      "source": [
        "## **Rencontrez la valeur aberrante**"
      ]
    },
    {
      "cell_type": "markdown",
      "metadata": {
        "id": "G8SFM-QzjMl0"
      },
      "source": [
        "En statistique, une valeur aberrante est un point d'observation éloigné des autres observations."
      ]
    },
    {
      "cell_type": "markdown",
      "metadata": {
        "id": "buHGxHVWjm82"
      },
      "source": [
        "## **Collecte de données et valeurs aberrantes**\n",
        "- Comme nous savons maintenant ce qu'est une valeur aberrante, mais vous demandez-vous également comment une valeur aberrante a-t-elle été introduite dans la population ?\n",
        "\n",
        "- Le projet Data Science commence par la collecte de données et c'est à ce moment que les valeurs aberrantes sont introduites pour la première fois dans la population. \n",
        "- Cependant, vous ne saurez rien des valeurs aberrantes lors de la phase de collecte. Les valeurs aberrantes peuvent être le résultat d'une erreur lors de la collecte de données ou simplement une indication de variance dans vos données.\n",
        "\n",
        "- Voyons quelques exemples. Supposons qu'on vous ait demandé d'observer les performances de d'une équipe de cricket, c'est-à-dire la course réalisée par chaque joueur et de collecter les données."
      ]
    },
    {
      "cell_type": "markdown",
      "metadata": {
        "id": "D5lKJjtQkM3w"
      },
      "source": [
        "![image](https://user-images.githubusercontent.com/123748165/228197676-18adb2a0-287d-49ae-98dc-295caf7ebb2f.png)\n"
      ]
    },
    {
      "cell_type": "markdown",
      "metadata": {
        "id": "lg2ooNrVkTzi"
      },
      "source": [
        "- Comme vous pouvez le voir à partir des données collectées ci-dessus, tous les autres joueurs ont marqué plus de 300 à l'exception de Player3 qui a marqué 10.\n",
        "\n",
        "- Ce chiffre peut être juste une erreur de frappe ou il montre la variance de vos données et indique que Player3 fonctionne très mal donc, a besoin améliorations."
      ]
    },
    {
      "cell_type": "markdown",
      "metadata": {
        "id": "-pDNEO2Gkk6N"
      },
      "source": [
        "- Maintenant que nous savons que les valeurs aberrantes peuvent être une erreur ou simplement une variance, comment décideriez-vous si elles sont importantes ou non. \n",
        "- Eh bien, c'est assez simple s'ils sont le résultat d'une erreur, alors nous pouvons les ignorer, mais s'il ne s'agit que d'une variance dans les données, nous aurions besoin de réfléchir un peu plus loin. \n",
        "- Avant d'essayer de comprendre s'il faut ignorer ou non les valeurs aberrantes, nous devons connaître les moyens de les identifier."
      ]
    },
    {
      "cell_type": "code",
      "execution_count": 43,
      "metadata": {
        "colab": {
          "base_uri": "https://localhost:8080/"
        },
        "id": "TS6DeKSkgMHU",
        "outputId": "7b4764f0-2d09-4728-9abe-27a34b81db40"
      },
      "outputs": [
        {
          "output_type": "stream",
          "name": "stdout",
          "text": [
            "Looking in indexes: https://pypi.org/simple, https://us-python.pkg.dev/colab-wheels/public/simple/\n",
            "Requirement already satisfied: scikit-learn==1.1.3 in /usr/local/lib/python3.9/dist-packages (1.1.3)\n",
            "Requirement already satisfied: numpy>=1.17.3 in /usr/local/lib/python3.9/dist-packages (from scikit-learn==1.1.3) (1.22.4)\n",
            "Requirement already satisfied: joblib>=1.0.0 in /usr/local/lib/python3.9/dist-packages (from scikit-learn==1.1.3) (1.1.1)\n",
            "Requirement already satisfied: scipy>=1.3.2 in /usr/local/lib/python3.9/dist-packages (from scikit-learn==1.1.3) (1.10.1)\n",
            "Requirement already satisfied: threadpoolctl>=2.0.0 in /usr/local/lib/python3.9/dist-packages (from scikit-learn==1.1.3) (3.1.0)\n"
          ]
        }
      ],
      "source": [
        "pip install scikit-learn==1.1.3"
      ]
    },
    {
      "cell_type": "code",
      "execution_count": null,
      "metadata": {
        "id": "nqrye2wFeOMp"
      },
      "outputs": [],
      "source": [
        "#Import the libraries\n",
        "import numpy as np\n",
        "import pandas as pd\n",
        "from sklearn.datasets import load_boston,load_iris"
      ]
    },
    {
      "cell_type": "markdown",
      "metadata": {
        "id": "etm1pDXIkwpn"
      },
      "source": [
        "## **Trouver des valeurs aberrantes**\n",
        "- Pour faciliter la découverte des valeurs aberrantes, nous disposons de nombreuses méthodes en statistique, mais nous n'en aborderons que quelques-unes. La plupart du temps, nous essaierons de voir des méthodes de visualisation (les plus simples) plutôt mathématiques.\n",
        "\n",
        "- Nous utiliserons le Boston House Pricing Dataset . Nous allons charger le jeu de données et séparer les features et la cible."
      ]
    },
    {
      "cell_type": "code",
      "execution_count": 44,
      "metadata": {
        "id": "NoJi7_G6eOMq",
        "outputId": "7cf1124f-2b12-408e-f375-ed232e42c522",
        "colab": {
          "base_uri": "https://localhost:8080/"
        }
      },
      "outputs": [
        {
          "output_type": "stream",
          "name": "stdout",
          "text": [
            "dict_keys(['data', 'target', 'feature_names', 'DESCR', 'filename', 'data_module'])\n"
          ]
        }
      ],
      "source": [
        "#Load the data\n",
        "boston = load_boston()\n",
        "\n",
        "#Find features and target\n",
        "x = boston.data\n",
        "y = boston.target\n",
        "\n",
        "#Find the dic keys\n",
        "print(boston.keys())"
      ]
    },
    {
      "cell_type": "code",
      "execution_count": null,
      "metadata": {
        "colab": {
          "base_uri": "https://localhost:8080/"
        },
        "id": "QPXelDnleOMr",
        "outputId": "43fcd6c2-2ed1-4589-f343-fe12d760c9ff"
      },
      "outputs": [
        {
          "data": {
            "text/plain": [
              "array(['CRIM', 'ZN', 'INDUS', 'CHAS', 'NOX', 'RM', 'AGE', 'DIS', 'RAD',\n",
              "       'TAX', 'PTRATIO', 'B', 'LSTAT'], dtype='<U7')"
            ]
          },
          "execution_count": 4,
          "metadata": {},
          "output_type": "execute_result"
        }
      ],
      "source": [
        "#find features name\n",
        "columns = boston.feature_names\n",
        "columns"
      ]
    },
    {
      "cell_type": "code",
      "execution_count": null,
      "metadata": {
        "id": "ntI7-M_geOMr"
      },
      "outputs": [],
      "source": [
        "#Description of dataset\n",
        "print(boston.DESCR)"
      ]
    },
    {
      "cell_type": "code",
      "execution_count": null,
      "metadata": {
        "colab": {
          "base_uri": "https://localhost:8080/",
          "height": 206
        },
        "id": "jnH1thUoeOMr",
        "outputId": "a539bc29-00c8-4dd3-fc55-2c3ee7cbd457"
      },
      "outputs": [
        {
          "data": {
            "text/html": [
              "\n",
              "  <div id=\"df-6269dd02-65d4-46a2-a2d5-47d32d080395\">\n",
              "    <div class=\"colab-df-container\">\n",
              "      <div>\n",
              "<style scoped>\n",
              "    .dataframe tbody tr th:only-of-type {\n",
              "        vertical-align: middle;\n",
              "    }\n",
              "\n",
              "    .dataframe tbody tr th {\n",
              "        vertical-align: top;\n",
              "    }\n",
              "\n",
              "    .dataframe thead th {\n",
              "        text-align: right;\n",
              "    }\n",
              "</style>\n",
              "<table border=\"1\" class=\"dataframe\">\n",
              "  <thead>\n",
              "    <tr style=\"text-align: right;\">\n",
              "      <th></th>\n",
              "      <th>CRIM</th>\n",
              "      <th>ZN</th>\n",
              "      <th>INDUS</th>\n",
              "      <th>CHAS</th>\n",
              "      <th>NOX</th>\n",
              "      <th>RM</th>\n",
              "      <th>AGE</th>\n",
              "      <th>DIS</th>\n",
              "      <th>RAD</th>\n",
              "      <th>TAX</th>\n",
              "      <th>PTRATIO</th>\n",
              "      <th>B</th>\n",
              "      <th>LSTAT</th>\n",
              "    </tr>\n",
              "  </thead>\n",
              "  <tbody>\n",
              "    <tr>\n",
              "      <th>0</th>\n",
              "      <td>0.00632</td>\n",
              "      <td>18.0</td>\n",
              "      <td>2.31</td>\n",
              "      <td>0.0</td>\n",
              "      <td>0.538</td>\n",
              "      <td>6.575</td>\n",
              "      <td>65.2</td>\n",
              "      <td>4.0900</td>\n",
              "      <td>1.0</td>\n",
              "      <td>296.0</td>\n",
              "      <td>15.3</td>\n",
              "      <td>396.90</td>\n",
              "      <td>4.98</td>\n",
              "    </tr>\n",
              "    <tr>\n",
              "      <th>1</th>\n",
              "      <td>0.02731</td>\n",
              "      <td>0.0</td>\n",
              "      <td>7.07</td>\n",
              "      <td>0.0</td>\n",
              "      <td>0.469</td>\n",
              "      <td>6.421</td>\n",
              "      <td>78.9</td>\n",
              "      <td>4.9671</td>\n",
              "      <td>2.0</td>\n",
              "      <td>242.0</td>\n",
              "      <td>17.8</td>\n",
              "      <td>396.90</td>\n",
              "      <td>9.14</td>\n",
              "    </tr>\n",
              "    <tr>\n",
              "      <th>2</th>\n",
              "      <td>0.02729</td>\n",
              "      <td>0.0</td>\n",
              "      <td>7.07</td>\n",
              "      <td>0.0</td>\n",
              "      <td>0.469</td>\n",
              "      <td>7.185</td>\n",
              "      <td>61.1</td>\n",
              "      <td>4.9671</td>\n",
              "      <td>2.0</td>\n",
              "      <td>242.0</td>\n",
              "      <td>17.8</td>\n",
              "      <td>392.83</td>\n",
              "      <td>4.03</td>\n",
              "    </tr>\n",
              "    <tr>\n",
              "      <th>3</th>\n",
              "      <td>0.03237</td>\n",
              "      <td>0.0</td>\n",
              "      <td>2.18</td>\n",
              "      <td>0.0</td>\n",
              "      <td>0.458</td>\n",
              "      <td>6.998</td>\n",
              "      <td>45.8</td>\n",
              "      <td>6.0622</td>\n",
              "      <td>3.0</td>\n",
              "      <td>222.0</td>\n",
              "      <td>18.7</td>\n",
              "      <td>394.63</td>\n",
              "      <td>2.94</td>\n",
              "    </tr>\n",
              "    <tr>\n",
              "      <th>4</th>\n",
              "      <td>0.06905</td>\n",
              "      <td>0.0</td>\n",
              "      <td>2.18</td>\n",
              "      <td>0.0</td>\n",
              "      <td>0.458</td>\n",
              "      <td>7.147</td>\n",
              "      <td>54.2</td>\n",
              "      <td>6.0622</td>\n",
              "      <td>3.0</td>\n",
              "      <td>222.0</td>\n",
              "      <td>18.7</td>\n",
              "      <td>396.90</td>\n",
              "      <td>5.33</td>\n",
              "    </tr>\n",
              "  </tbody>\n",
              "</table>\n",
              "</div>\n",
              "      <button class=\"colab-df-convert\" onclick=\"convertToInteractive('df-6269dd02-65d4-46a2-a2d5-47d32d080395')\"\n",
              "              title=\"Convert this dataframe to an interactive table.\"\n",
              "              style=\"display:none;\">\n",
              "        \n",
              "  <svg xmlns=\"http://www.w3.org/2000/svg\" height=\"24px\"viewBox=\"0 0 24 24\"\n",
              "       width=\"24px\">\n",
              "    <path d=\"M0 0h24v24H0V0z\" fill=\"none\"/>\n",
              "    <path d=\"M18.56 5.44l.94 2.06.94-2.06 2.06-.94-2.06-.94-.94-2.06-.94 2.06-2.06.94zm-11 1L8.5 8.5l.94-2.06 2.06-.94-2.06-.94L8.5 2.5l-.94 2.06-2.06.94zm10 10l.94 2.06.94-2.06 2.06-.94-2.06-.94-.94-2.06-.94 2.06-2.06.94z\"/><path d=\"M17.41 7.96l-1.37-1.37c-.4-.4-.92-.59-1.43-.59-.52 0-1.04.2-1.43.59L10.3 9.45l-7.72 7.72c-.78.78-.78 2.05 0 2.83L4 21.41c.39.39.9.59 1.41.59.51 0 1.02-.2 1.41-.59l7.78-7.78 2.81-2.81c.8-.78.8-2.07 0-2.86zM5.41 20L4 18.59l7.72-7.72 1.47 1.35L5.41 20z\"/>\n",
              "  </svg>\n",
              "      </button>\n",
              "      \n",
              "  <style>\n",
              "    .colab-df-container {\n",
              "      display:flex;\n",
              "      flex-wrap:wrap;\n",
              "      gap: 12px;\n",
              "    }\n",
              "\n",
              "    .colab-df-convert {\n",
              "      background-color: #E8F0FE;\n",
              "      border: none;\n",
              "      border-radius: 50%;\n",
              "      cursor: pointer;\n",
              "      display: none;\n",
              "      fill: #1967D2;\n",
              "      height: 32px;\n",
              "      padding: 0 0 0 0;\n",
              "      width: 32px;\n",
              "    }\n",
              "\n",
              "    .colab-df-convert:hover {\n",
              "      background-color: #E2EBFA;\n",
              "      box-shadow: 0px 1px 2px rgba(60, 64, 67, 0.3), 0px 1px 3px 1px rgba(60, 64, 67, 0.15);\n",
              "      fill: #174EA6;\n",
              "    }\n",
              "\n",
              "    [theme=dark] .colab-df-convert {\n",
              "      background-color: #3B4455;\n",
              "      fill: #D2E3FC;\n",
              "    }\n",
              "\n",
              "    [theme=dark] .colab-df-convert:hover {\n",
              "      background-color: #434B5C;\n",
              "      box-shadow: 0px 1px 3px 1px rgba(0, 0, 0, 0.15);\n",
              "      filter: drop-shadow(0px 1px 2px rgba(0, 0, 0, 0.3));\n",
              "      fill: #FFFFFF;\n",
              "    }\n",
              "  </style>\n",
              "\n",
              "      <script>\n",
              "        const buttonEl =\n",
              "          document.querySelector('#df-6269dd02-65d4-46a2-a2d5-47d32d080395 button.colab-df-convert');\n",
              "        buttonEl.style.display =\n",
              "          google.colab.kernel.accessAllowed ? 'block' : 'none';\n",
              "\n",
              "        async function convertToInteractive(key) {\n",
              "          const element = document.querySelector('#df-6269dd02-65d4-46a2-a2d5-47d32d080395');\n",
              "          const dataTable =\n",
              "            await google.colab.kernel.invokeFunction('convertToInteractive',\n",
              "                                                     [key], {});\n",
              "          if (!dataTable) return;\n",
              "\n",
              "          const docLinkHtml = 'Like what you see? Visit the ' +\n",
              "            '<a target=\"_blank\" href=https://colab.research.google.com/notebooks/data_table.ipynb>data table notebook</a>'\n",
              "            + ' to learn more about interactive tables.';\n",
              "          element.innerHTML = '';\n",
              "          dataTable['output_type'] = 'display_data';\n",
              "          await google.colab.output.renderOutput(dataTable, element);\n",
              "          const docLink = document.createElement('div');\n",
              "          docLink.innerHTML = docLinkHtml;\n",
              "          element.appendChild(docLink);\n",
              "        }\n",
              "      </script>\n",
              "    </div>\n",
              "  </div>\n",
              "  "
            ],
            "text/plain": [
              "      CRIM    ZN  INDUS  CHAS    NOX     RM   AGE     DIS  RAD    TAX  \\\n",
              "0  0.00632  18.0   2.31   0.0  0.538  6.575  65.2  4.0900  1.0  296.0   \n",
              "1  0.02731   0.0   7.07   0.0  0.469  6.421  78.9  4.9671  2.0  242.0   \n",
              "2  0.02729   0.0   7.07   0.0  0.469  7.185  61.1  4.9671  2.0  242.0   \n",
              "3  0.03237   0.0   2.18   0.0  0.458  6.998  45.8  6.0622  3.0  222.0   \n",
              "4  0.06905   0.0   2.18   0.0  0.458  7.147  54.2  6.0622  3.0  222.0   \n",
              "\n",
              "   PTRATIO       B  LSTAT  \n",
              "0     15.3  396.90   4.98  \n",
              "1     17.8  396.90   9.14  \n",
              "2     17.8  392.83   4.03  \n",
              "3     18.7  394.63   2.94  \n",
              "4     18.7  396.90   5.33  "
            ]
          },
          "execution_count": 23,
          "metadata": {},
          "output_type": "execute_result"
        }
      ],
      "source": [
        "#Create dataframe\n",
        "boston_df = #Créer une dataframe de boston.data\n",
        "boston_df.columns = columns\n",
        "boston_df_o = boston_df\n",
        "#afficher la taille de boston_df\n",
        "#fill_here\n",
        "#afficher les 5 premiers lignes de la dataframe boston_df\n",
        "#fill_here"
      ]
    },
    {
      "cell_type": "markdown",
      "metadata": {
        "id": "7WYHBi2EmJMo"
      },
      "source": [
        "- Les caractéristiques/variables indépendantes seront utilisées pour rechercher toute valeur aberrante. En regardant les données ci-dessus, il semble que nous n'ayons que des valeurs numériques, c'est-à-dire que nous n'avons pas besoin de formater les données.\n",
        "\n",
        "- Il existe deux types d'analyse que nous suivrons pour trouver les valeurs aberrantes - Uni-variable (analyse des valeurs aberrantes à une variable) et multivariée (analyse des valeurs aberrantes à deux variables ou plus). \n",
        "- Pour garder les choses simples, nous commencerons par la méthode de base de détection des valeurs aberrantes et passerons lentement aux méthodes avancées."
      ]
    },
    {
      "cell_type": "markdown",
      "metadata": {
        "id": "7QhcHaF7mZHI"
      },
      "source": [
        "## **Découvrez les valeurs aberrantes avec des outils de visualisation**\n",
        "**Boîte à moustaches-**\n",
        "\n"
      ]
    },
    {
      "cell_type": "code",
      "execution_count": null,
      "metadata": {
        "colab": {
          "base_uri": "https://localhost:8080/",
          "height": 296
        },
        "id": "c58HtX9SeOMr",
        "outputId": "2c4344c5-7d88-4a80-faba-1fed45ab4c38"
      },
      "outputs": [
        {
          "data": {
            "text/plain": [
              "<Axes: xlabel='DIS'>"
            ]
          },
          "execution_count": 7,
          "metadata": {},
          "output_type": "execute_result"
        },
        {
          "data": {
            "image/png": "[encoded data removed]",
            "text/plain": [
              "<Figure size 432x288 with 1 Axes>"
            ]
          },
          "metadata": {
            "needs_background": "light"
          },
          "output_type": "display_data"
        }
      ],
      "source": [
        "#Oulier detection - Univarite - Boxplot\n",
        "import matplotlib.pyplot as plt\n",
        "import seaborn as sns\n",
        "\n",
        "%matplotlib inline\n",
        "sns.boxplot(x=boston_df['DIS'])"
      ]
    },
    {
      "cell_type": "markdown",
      "metadata": {
        "id": "-lMVZUySmtsb"
      },
      "source": [
        "- Le graphique ci-dessus montre trois points entre 10 et 12, ce sont des valeurs aberrantes car elles ne sont pas incluses dans la case des autres observations, c'est-à-dire nulle part près des quartiles.\n",
        "\n",
        "- Ici, nous avons analysé la valeur aberrante univariée, c'est-à-dire que nous avons utilisé la colonne DIS uniquement pour vérifier la valeur aberrante. Mais nous pouvons également effectuer une analyse multivariée des valeurs aberrantes. \n",
        "- Peut-on faire l'analyse multivariée avec Box plot ? \n",
        "    - Eh bien, cela dépend, si vous avez des valeurs catégorielles, vous pouvez les utiliser avec n'importe quelle variable continue et effectuer une analyse multivariée des valeurs aberrantes. \n",
        "    - Comme nous n'avons pas de valeur catégorique dans notre ensemble de données Boston Housing, nous devrons peut-être oublier d'utiliser la boîte à moustaches pour l'analyse multivariée des valeurs aberrantes."
      ]
    },
    {
      "cell_type": "markdown",
      "metadata": {
        "id": "k5h0NJcDm-mK"
      },
      "source": [
        "## **Nuage de points-**"
      ]
    },
    {
      "cell_type": "code",
      "execution_count": null,
      "metadata": {
        "colab": {
          "base_uri": "https://localhost:8080/",
          "height": 497
        },
        "id": "Y_vWjB7geOMs",
        "outputId": "8cbf7610-44d1-4fe9-9047-a2c4407d7b0b"
      },
      "outputs": [
        {
          "data": {
            "image/png": "[encoded data removed]",
            "text/plain": [
              "<Figure size 1152x576 with 1 Axes>"
            ]
          },
          "metadata": {
            "needs_background": "light"
          },
          "output_type": "display_data"
        }
      ],
      "source": [
        "#Multivariate outlier analysis\n",
        "#Tracer un graphe de nuage de points en utilisant les colonnes 'TAX'(la renommer dans le graphe : 'Proportion of non-retail business acres per town') et 'INDUS'(la renommer dans le graphe : ''Full-value property-tax rate per $10,000')\n",
        "#fill_here"
      ]
    },
    {
      "cell_type": "markdown",
      "metadata": {
        "id": "gGvZpZ54nGPU"
      },
      "source": [
        "- En regardant le graphique ci-dessus, nous pouvons dire que la plupart des points de données se trouvent en bas à gauche, mais il y a des points qui sont éloignés de la population comme le coin supérieur droit."
      ]
    },
    {
      "cell_type": "markdown",
      "metadata": {
        "id": "iIIL4NeIoE0Y"
      },
      "source": [
        "## **Découvrez les valeurs aberrantes avec une fonction mathématique**\n",
        "**Z-Score-**"
      ]
    },
    {
      "cell_type": "markdown",
      "metadata": {
        "id": "h1IfEXHaog2H"
      },
      "source": [
        "- Le score Z est le nombre signé d'écarts types par lequel la valeur d'une observation ou d'un point de données est supérieure à la valeur moyenne de ce qui est observé ou mesuré.\n",
        "\n",
        "- L'intuition derrière Z-score est de décrire n'importe quel point de données en trouvant leur relation avec l'écart type et la moyenne du groupe de points de données. \n",
        "- Le score Z consiste à trouver la distribution des données où la moyenne est de 0 et l'écart type est de 1, c'est-à-dire la distribution normale.\n",
        "\n",
        "- Vous devez vous demander comment cela aide-t-il à identifier les valeurs aberrantes ? \n",
        "    - Eh bien, lors du calcul du score Z, nous redimensionnons et centrons les données et recherchons les points de données trop éloignés de zéro. \n",
        "    - Ces points de données qui sont bien trop éloignés de zéro seront traités comme des valeurs aberrantes. Dans la plupart des cas, un seuil de 3 ou -3 est utilisé, c'est-à-dire que si la valeur du score Z est supérieure ou inférieure à 3 ou -3 respectivement, ce point de données sera identifié comme des valeurs aberrantes.\n",
        "\n",
        "- Nous utiliserons la fonction Z-score définie dans la bibliothèque scipy pour détecter les valeurs aberrantes."
      ]
    },
    {
      "cell_type": "code",
      "execution_count": null,
      "metadata": {
        "colab": {
          "base_uri": "https://localhost:8080/"
        },
        "id": "W8Wv_lk_eOMs",
        "outputId": "a885c989-4c7c-4495-f63e-0567f93f571c"
      },
      "outputs": [
        {
          "name": "stdout",
          "output_type": "stream",
          "text": [
            "         CRIM        ZN     INDUS      CHAS       NOX        RM       AGE  \\\n",
            "0    0.419782  0.284830  1.287909  0.272599  0.144217  0.413672  0.120013   \n",
            "1    0.417339  0.487722  0.593381  0.272599  0.740262  0.194274  0.367166   \n",
            "2    0.417342  0.487722  0.593381  0.272599  0.740262  1.282714  0.265812   \n",
            "3    0.416750  0.487722  1.306878  0.272599  0.835284  1.016303  0.809889   \n",
            "4    0.412482  0.487722  1.306878  0.272599  0.835284  1.228577  0.511180   \n",
            "..        ...       ...       ...       ...       ...       ...       ...   \n",
            "501  0.413229  0.487722  0.115738  0.272599  0.158124  0.439316  0.018673   \n",
            "502  0.415249  0.487722  0.115738  0.272599  0.158124  0.234548  0.288933   \n",
            "503  0.413447  0.487722  0.115738  0.272599  0.158124  0.984960  0.797449   \n",
            "504  0.407764  0.487722  0.115738  0.272599  0.158124  0.725672  0.736996   \n",
            "505  0.415000  0.487722  0.115738  0.272599  0.158124  0.362767  0.434732   \n",
            "\n",
            "          DIS       RAD       TAX   PTRATIO         B     LSTAT  \n",
            "0    0.140214  0.982843  0.666608  1.459000  0.441052  1.075562  \n",
            "1    0.557160  0.867883  0.987329  0.303094  0.441052  0.492439  \n",
            "2    0.557160  0.867883  0.987329  0.303094  0.396427  1.208727  \n",
            "3    1.077737  0.752922  1.106115  0.113032  0.416163  1.361517  \n",
            "4    1.077737  0.752922  1.106115  0.113032  0.441052  1.026501  \n",
            "..        ...       ...       ...       ...       ...       ...  \n",
            "501  0.625796  0.982843  0.803212  1.176466  0.387217  0.418147  \n",
            "502  0.716639  0.982843  0.803212  1.176466  0.441052  0.500850  \n",
            "503  0.773684  0.982843  0.803212  1.176466  0.441052  0.983048  \n",
            "504  0.668437  0.982843  0.803212  1.176466  0.403225  0.865302  \n",
            "505  0.613246  0.982843  0.803212  1.176466  0.441052  0.669058  \n",
            "\n",
            "[506 rows x 13 columns]\n"
          ]
        }
      ],
      "source": [
        "from scipy import stats\n",
        "import numpy as np\n",
        "z = np.abs(stats.zscore(boston_df))\n",
        "print(z)"
      ]
    },
    {
      "cell_type": "markdown",
      "metadata": {
        "id": "-W_fnq8apSfX"
      },
      "source": [
        "- En regardant le code et la sortie ci-dessus, il est difficile de dire quel point de données est une valeur aberrante. Essayons de définir un seuil pour identifier une valeur aberrante."
      ]
    },
    {
      "cell_type": "code",
      "execution_count": null,
      "metadata": {
        "colab": {
          "base_uri": "https://localhost:8080/"
        },
        "id": "KgUikTiHeOMs",
        "outputId": "b9e0964a-a4fb-48ec-c6fa-099fdf5736da"
      },
      "outputs": [
        {
          "data": {
            "text/plain": [
              "(506, 13)"
            ]
          },
          "execution_count": 11,
          "metadata": {},
          "output_type": "execute_result"
        }
      ],
      "source": [
        "z.shape"
      ]
    },
    {
      "cell_type": "code",
      "execution_count": null,
      "metadata": {
        "colab": {
          "base_uri": "https://localhost:8080/"
        },
        "id": "Ola7qU7teOMt",
        "outputId": "13f36925-96af-40be-991f-82f174427451"
      },
      "outputs": [
        {
          "name": "stdout",
          "output_type": "stream",
          "text": [
            "(array([ 55,  56,  57, 102, 141, 142, 152, 154, 155, 160, 162, 163, 199,\n",
            "       200, 201, 202, 203, 204, 208, 209, 210, 211, 212, 216, 218, 219,\n",
            "       220, 221, 222, 225, 234, 236, 256, 257, 262, 269, 273, 274, 276,\n",
            "       277, 282, 283, 283, 284, 347, 351, 352, 353, 353, 354, 355, 356,\n",
            "       357, 358, 363, 364, 364, 365, 367, 369, 370, 372, 373, 374, 374,\n",
            "       380, 398, 404, 405, 406, 410, 410, 411, 412, 412, 414, 414, 415,\n",
            "       416, 418, 418, 419, 423, 424, 425, 426, 427, 427, 429, 431, 436,\n",
            "       437, 438, 445, 450, 454, 455, 456, 457, 466]), array([ 1,  1,  1, 11, 12,  3,  3,  3,  3,  3,  3,  3,  1,  1,  1,  1,  1,\n",
            "        1,  3,  3,  3,  3,  3,  3,  3,  3,  3,  3,  3,  5,  3,  3,  1,  5,\n",
            "        5,  3,  3,  3,  3,  3,  3,  1,  3,  1,  1,  7,  7,  1,  7,  7,  7,\n",
            "        3,  3,  3,  3,  3,  5,  5,  5,  3,  3,  3, 12,  5, 12,  0,  0,  0,\n",
            "        0,  5,  0, 11, 11, 11, 12,  0, 12, 11, 11,  0, 11, 11, 11, 11, 11,\n",
            "       11,  0, 11, 11, 11, 11, 11, 11, 11, 11, 11, 11, 11, 11, 11]))\n"
          ]
        }
      ],
      "source": [
        "threshold = 3\n",
        "#Afficher les valeurs de z > 3 \n",
        "print(#fill_here)"
      ]
    },
    {
      "cell_type": "markdown",
      "metadata": {
        "id": "C5YuagaHpafp"
      },
      "source": [
        "Ne soyez pas confus par les résultats. Le premier tableau contient la liste des numéros de ligne et le second tableau des numéros de colonne respectifs, ce qui signifie que z[55][1] ont un score Z supérieur à 3."
      ]
    },
    {
      "cell_type": "markdown",
      "metadata": {
        "id": "BX5_kX9AqLtP"
      },
      "source": [
        "**Score IQR -**\n",
        "\n",
        "La boîte à moustaches utilise la méthode IQR pour afficher les données et les valeurs aberrantes (forme des données), mais pour obtenir une liste des valeurs aberrantes identifiées, nous devrons utiliser la formule mathématique et récupérer les données aberrantes."
      ]
    },
    {
      "cell_type": "markdown",
      "metadata": {
        "id": "-DI72KrCqhns"
      },
      "source": [
        "- L' intervalle interquartile ( IQR ), également appelé midspread ou middle 50% , ou techniquement H-spread , est une mesure de la dispersion statistique, étant égale à la différence entre les 75e et 25e centiles, ou entre les quartiles supérieur et inférieur, IQR = Q 3 - Q 1.\n",
        "\n",
        "- En d'autres termes, l'IQR est le premier quartile soustrait du troisième quartile ; ces quartiles sont clairement visibles sur une boîte à moustaches sur les données.\n",
        "\n",
        "- Il s'agit d'une mesure de la dispersion similaire à l'écart-type ou à la variance, mais beaucoup plus robuste vis-à-vis des valeurs aberrantes.\n",
        "\n",
        "- L'IQR est quelque peu similaire au score Z en termes de recherche de la distribution des données, puis de maintien d'un certain seuil pour identifier la valeur aberrante.\n",
        "\n",
        "- Nous allons d'abord calculer l'IQR,"
      ]
    },
    {
      "cell_type": "code",
      "execution_count": null,
      "metadata": {
        "colab": {
          "base_uri": "https://localhost:8080/"
        },
        "id": "ypxyammlqOcs",
        "outputId": "43848878-8a93-44a4-f93a-40ad3d0a311a"
      },
      "outputs": [
        {
          "name": "stdout",
          "output_type": "stream",
          "text": [
            "CRIM         3.595038\n",
            "ZN          12.500000\n",
            "INDUS       12.910000\n",
            "CHAS         0.000000\n",
            "NOX          0.175000\n",
            "RM           0.738000\n",
            "AGE         49.050000\n",
            "DIS          3.088250\n",
            "RAD         20.000000\n",
            "TAX        387.000000\n",
            "PTRATIO      2.800000\n",
            "B           20.847500\n",
            "LSTAT       10.005000\n",
            "dtype: float64\n"
          ]
        }
      ],
      "source": [
        "Q1 = boston_df_o1.quantile(0.25)\n",
        "Q3 = boston_df_o1.quantile(0.75)\n",
        "IQR = Q3 - Q1\n",
        "print(IQR)"
      ]
    },
    {
      "cell_type": "markdown",
      "metadata": {
        "id": "dxB_SQzZsrrc"
      },
      "source": [
        "- Maintenant que nous savons comment détecter les valeurs aberrantes, il est important de comprendre si elles doivent être supprimées ou corrigées. Dans la section suivante, nous examinerons quelques méthodes pour supprimer les valeurs aberrantes et, si nécessaire, imputer de nouvelles valeurs."
      ]
    },
    {
      "cell_type": "markdown",
      "metadata": {
        "id": "NcPGuVZHeOMt"
      },
      "source": [
        "# Removing Outliers "
      ]
    },
    {
      "cell_type": "markdown",
      "metadata": {
        "id": "5O9HMKWbuPIN"
      },
      "source": [
        "## **Travailler avec les valeurs aberrantes : corriger, supprimer**\n",
        "- Lors de l'analyse des données, lorsque vous détectez la valeur aberrante, l'une des décisions les plus difficiles pourrait être de savoir comment traiter la valeur aberrante. \n",
        "- Doit-on les supprimer ou les corriger ? Avant d'en parler, nous allons examiner quelques méthodes pour supprimer les valeurs aberrantes.\n",
        "\n",
        "**Score Z**\n",
        "\n",
        "- Dans la section précédente, nous avons vu comment détecter la valeur aberrante à l'aide du score Z, mais nous souhaitons maintenant supprimer ou filtrer les valeurs aberrantes et obtenir des données propres. \n",
        "- Cela peut être fait avec une seul ligne de code car nous avons déjà calculé le Z-score."
      ]
    },
    {
      "cell_type": "code",
      "execution_count": null,
      "metadata": {
        "id": "LHFWcAG_eOMu"
      },
      "outputs": [],
      "source": [
        "#  supprimer toutes les lignes (observations) de boston_df_o pour lesquelles la valeur absolue du score z de chaque variable (colonne) est supérieure à 3.\n",
        "# Ajouter la méthode all(axis=1) est utilisée pour s'assurer que toutes les variables (colonnes) ont des scores z inférieurs à 3 pour chaque observation.  \n",
        "boston_df_o = #fill_here"
      ]
    },
    {
      "cell_type": "code",
      "execution_count": null,
      "metadata": {
        "colab": {
          "base_uri": "https://localhost:8080/"
        },
        "id": "vh1Sh_zVeOMu",
        "outputId": "a440e7e7-96f0-4d49-cf54-2e496bee3669"
      },
      "outputs": [
        {
          "data": {
            "text/plain": [
              "(506, 13)"
            ]
          },
          "execution_count": 18,
          "metadata": {},
          "output_type": "execute_result"
        }
      ],
      "source": [
        "boston_df.shape"
      ]
    },
    {
      "cell_type": "code",
      "execution_count": null,
      "metadata": {
        "colab": {
          "base_uri": "https://localhost:8080/"
        },
        "id": "dm3JpE3peOMv",
        "outputId": "b3eddf77-009f-450d-86a2-ba6b05cbed17"
      },
      "outputs": [
        {
          "data": {
            "text/plain": [
              "(415, 13)"
            ]
          },
          "execution_count": 19,
          "metadata": {},
          "output_type": "execute_result"
        }
      ],
      "source": [
        "boston_df_o.shape"
      ]
    },
    {
      "cell_type": "markdown",
      "metadata": {
        "id": "kK3ZPHuzuuo5"
      },
      "source": [
        "- Ainsi, le code ci-dessus a supprimé environ 90 lignesde l'ensemble de données, c'est-à-dire que les valeurs aberrantes ont été supprimées."
      ]
    },
    {
      "cell_type": "markdown",
      "metadata": {
        "id": "8bY1MUwCvCi3"
      },
      "source": [
        "**Score IQR -**\n",
        "\n",
        "- Tout comme le score Z, nous pouvons utiliser le score IQR précédemment calculé pour filtrer les valeurs aberrantes en ne conservant que les valeurs valides."
      ]
    },
    {
      "cell_type": "code",
      "execution_count": null,
      "metadata": {
        "id": "Ah9-n8-jeOMv"
      },
      "outputs": [],
      "source": [
        "boston_df_o1 = boston_df"
      ]
    },
    {
      "cell_type": "code",
      "execution_count": null,
      "metadata": {
        "colab": {
          "base_uri": "https://localhost:8080/"
        },
        "id": "27WLAFCAeOMv",
        "outputId": "d0f4b7c8-3ca1-4328-ff89-cbc55defd36c"
      },
      "outputs": [
        {
          "name": "stdout",
          "output_type": "stream",
          "text": [
            "CRIM         3.595038\n",
            "ZN          12.500000\n",
            "INDUS       12.910000\n",
            "CHAS         0.000000\n",
            "NOX          0.175000\n",
            "RM           0.738000\n",
            "AGE         49.050000\n",
            "DIS          3.088250\n",
            "RAD         20.000000\n",
            "TAX        387.000000\n",
            "PTRATIO      2.800000\n",
            "B           20.847500\n",
            "LSTAT       10.005000\n",
            "dtype: float64\n"
          ]
        }
      ],
      "source": [
        "Q1 = boston_df_o1.quantile(0.25)\n",
        "Q3 = boston_df_o1.quantile(0.75)\n",
        "IQR = Q3 - Q1\n",
        "print(IQR)\n",
        "\n",
        "boston_df_out = boston_df_o1[~((boston_df_o1 < (Q1 - 1.5 * IQR)) |(boston_df_o1 > (Q3 + 1.5 * IQR))).any(axis=1)]"
      ]
    },
    {
      "cell_type": "code",
      "execution_count": null,
      "metadata": {
        "colab": {
          "base_uri": "https://localhost:8080/"
        },
        "id": "6S8HzqiyeOMw",
        "outputId": "176ec9ee-451c-4385-8206-688535918f32"
      },
      "outputs": [
        {
          "data": {
            "text/plain": [
              "(274, 13)"
            ]
          },
          "execution_count": 22,
          "metadata": {},
          "output_type": "execute_result"
        }
      ],
      "source": [
        "boston_df_out.shape"
      ]
    }
  ],
  "metadata": {
    "kernelspec": {
      "display_name": "Python 3",
      "language": "python",
      "name": "python3"
    },
    "language_info": {
      "codemirror_mode": {
        "name": "ipython",
        "version": 3
      },
      "file_extension": ".py",
      "mimetype": "text/x-python",
      "name": "python",
      "nbconvert_exporter": "python",
      "pygments_lexer": "ipython3",
      "version": "3.6.4"
    },
    "colab": {
      "provenance": []
    }
  },
  "nbformat": 4,
  "nbformat_minor": 0
}