{
  "cells": [
    {
      "cell_type": "markdown",
      "metadata": {
        "id": "gPQ9DA5VQpyP"
      },
      "source": [
        "**Exercice 1 :**    \n",
        "Créer un programme pandas Python qui traite les données du tableau suivant à l'aide d'un DataFrame et les affiches sous forme d'un tableau à l'écran:\n",
        "\n",
        "![image](https://user-images.githubusercontent.com/123748165/226333321-a26d48aa-a3d8-4d4a-8dd0-fe0745f0c81c.png)"
      ]
    },
    {
      "cell_type": "code",
      "execution_count": 15,
      "metadata": {
        "id": "hczTxtG5QTPn",
        "colab": {
          "base_uri": "https://localhost:8080/",
          "height": 261
        },
        "outputId": "1eb3c7e4-d7de-479b-817a-6876fe166a86"
      },
      "outputs": [
        {
          "output_type": "stream",
          "name": "stdout",
          "text": [
            "   ID      Name               Email   Section\n",
            "0   1    Albert    albert@gmail.com       SVT\n",
            "1   2  Nathalie  nathalie@gmail.com    SC Eco\n",
            "2   3    Robert    robert@gmail.com      Math\n",
            "3   4    Jesika    jesika@gmail.com     Philo\n",
            "4   5      Adam      adam@gmail.com  Physique\n",
            "   ID      Name               Email   Section\n",
            "0   1    Albert    albert@gmail.com       SVT\n",
            "1   2  Nathalie  nathalie@gmail.com    SC Eco\n",
            "2   3    Robert    robert@gmail.com      Math\n",
            "3   4    Jesika    jesika@gmail.com     Philo\n",
            "4   5      Adam      adam@gmail.com  Physique\n"
          ]
        },
        {
          "output_type": "execute_result",
          "data": {
            "text/plain": [
              "'\\noutput:\\n   ID      Name               Email   Section\\n0   1    Albert    albert@gmail.com       SVT\\n1   2  Nathalie  nathalie@gmail.com    SC Eco\\n2   3    Robert    robert@gmail.com      Math\\n3   4    Jesika    jesika@gmail.com     Philo\\n4   5      Adam      adam@gmail.com  Physique\\n'"
            ],
            "application/vnd.google.colaboratory.intrinsic+json": {
              "type": "string"
            }
          },
          "metadata": {},
          "execution_count": 15
        }
      ],
      "source": [
        "#solution\n",
        "\n",
        "\n",
        "# importation de la bibliothèque pandas\n",
        "import pandas as ps\n",
        "\n",
        "# représentation des données sur un dictionnaire python\n",
        "dictData = {'ID' : [1, 2, 3, 4 , 5] , \n",
        "            'Name': ['Albert' , 'Nathalie' , 'Robert' , 'Jesika' , 'Adam'] , \n",
        "            'Email': ['albert@gmail.com' , 'nathalie@gmail.com' , 'robert@gmail.com' , 'jesika@gmail.com' , 'adam@gmail.com'] , \n",
        "            'Section' : ['SVT' , 'SC Eco' , 'Math' , 'Philo' , 'Physique'] }\n",
        "\n",
        "# créer un objet dataframe\n",
        "df = ps.DataFrame(dictData)\n",
        "\n",
        "# afficher les données\n",
        "print(df)\n",
        "\"\"\"\n",
        "output:\n",
        "   ID      Name               Email   Section\n",
        "0   1    Albert    albert@gmail.com       SVT\n",
        "1   2  Nathalie  nathalie@gmail.com    SC Eco\n",
        "2   3    Robert    robert@gmail.com      Math\n",
        "3   4    Jesika    jesika@gmail.com     Philo\n",
        "4   5      Adam      adam@gmail.com  Physique\n",
        "\"\"\"\n",
        "\n",
        "1\n",
        "2\n",
        "3\n",
        "4\n",
        "5\n",
        "6\n",
        "7\n",
        "8\n",
        "9\n",
        "10\n",
        "11\n",
        "12\n",
        "13\n",
        "14\n",
        "15\n",
        "16\n",
        "17\n",
        "18\n",
        "19\n",
        "20\n",
        "21\n",
        "22\n",
        "23\n",
        "24\n",
        "25\n",
        " \n",
        "# importation de la bibliothèque pandas\n",
        "import pandas as ps\n",
        " \n",
        "# représentation des données sur un dictionnaire python\n",
        "dictData = {'ID' : [1, 2, 3, 4 , 5] , \n",
        "            'Name': ['Albert' , 'Nathalie' , 'Robert' , 'Jesika' , 'Adam'] , \n",
        "            'Email': ['albert@gmail.com' , 'nathalie@gmail.com' , 'robert@gmail.com' , 'jesika@gmail.com' , 'adam@gmail.com'] , \n",
        "            'Section' : ['SVT' , 'SC Eco' , 'Math' , 'Philo' , 'Physique'] }\n",
        " \n",
        "# créer un objet dataframe\n",
        "df = ps.DataFrame(dictData)\n",
        " \n",
        "# afficher les données\n",
        "print(df)\n",
        "\"\"\"\n",
        "output:\n",
        "   ID      Name               Email   Section\n",
        "0   1    Albert    albert@gmail.com       SVT\n",
        "1   2  Nathalie  nathalie@gmail.com    SC Eco\n",
        "2   3    Robert    robert@gmail.com      Math\n",
        "3   4    Jesika    jesika@gmail.com     Philo\n",
        "4   5      Adam      adam@gmail.com  Physique\n",
        "\"\"\"\n",
        " "
      ]
    },
    {
      "cell_type": "markdown",
      "metadata": {
        "id": "az373nbCRlfE"
      },
      "source": [
        "**Exercice 2 :**    \n",
        "Créer un programme pandas python qui permet de convertir la série:"
      ]
    },
    {
      "cell_type": "code",
      "execution_count": null,
      "metadata": {
        "id": "XJUCW8CsSFTs"
      },
      "outputs": [],
      "source": [
        "serie = pandas.Serie(numpy.array (['P', 'a', 'n', 'd', 'a' , 's']))"
      ]
    },
    {
      "cell_type": "markdown",
      "metadata": {
        "id": "BCWAWqktSHbC"
      },
      "source": [
        "en la chaine de caractères formée par les éléments de la série. Le programme doit renvoyer la chaine s = \"Pandas\"."
      ]
    },
    {
      "cell_type": "code",
      "execution_count": 17,
      "metadata": {
        "id": "lEZkaUupSQmM",
        "colab": {
          "base_uri": "https://localhost:8080/"
        },
        "outputId": "b7f9a042-5d14-4039-bcba-602ddbcf0ad8"
      },
      "outputs": [
        {
          "output_type": "stream",
          "name": "stdout",
          "text": [
            "Pandas\n"
          ]
        }
      ],
      "source": [
        "#solution\n",
        "\n",
        "# importation de pandas as pan\n",
        "import pandas as pan\n",
        "\n",
        "# importation de  numpy as np\n",
        "import numpy as np\n",
        "\n",
        "# tableau simple\n",
        "data = np.array (['P', 'a', 'n', 'd', 'a' , 's'])\n",
        "\n",
        "serie = pan.Series(data)\n",
        "myString = \"\"\n",
        "for i in range(0 , len(serie)):\n",
        "    myString += serie[i]\n",
        " \n",
        "# afficher la chaine   \n",
        "print(myString)\n",
        "\n"
      ]
    },
    {
      "cell_type": "markdown",
      "metadata": {
        "id": "dKGvvdBeSbc_"
      },
      "source": [
        "**Exercice 3 :**    \n",
        "Ecrire un programme pandas python qui permet de supprimer un élément de la série:"
      ]
    },
    {
      "cell_type": "code",
      "execution_count": null,
      "metadata": {
        "id": "4nUqpIsjSmuA"
      },
      "outputs": [],
      "source": [
        "pandas.Series(['Python' , 'Djnago' , 'Tkinter' , 'PyQt' , 'numpy'])"
      ]
    },
    {
      "cell_type": "markdown",
      "metadata": {
        "id": "G8VuSBQgSpJW"
      },
      "source": [
        "Supprimer le dernier élément à titre d'exemple."
      ]
    },
    {
      "cell_type": "code",
      "execution_count": 18,
      "metadata": {
        "id": "poXfZQb1TcGg",
        "colab": {
          "base_uri": "https://localhost:8080/",
          "height": 122
        },
        "outputId": "fcb72aec-1588-4505-adcc-2ab3b79aa5c5"
      },
      "outputs": [
        {
          "output_type": "stream",
          "name": "stdout",
          "text": [
            "0     Python\n",
            "1     Djnago\n",
            "2    Tkinter\n",
            "3       PyQt\n",
            "dtype: object\n"
          ]
        },
        {
          "output_type": "execute_result",
          "data": {
            "text/plain": [
              "'\\noutput:\\n0     Python\\n1     Djnago\\n2    Tkinter\\n3       PyQt\\ndtype: object\\n'"
            ],
            "application/vnd.google.colaboratory.intrinsic+json": {
              "type": "string"
            }
          },
          "metadata": {},
          "execution_count": 18
        }
      ],
      "source": [
        "#solution\n",
        "# importation de pandas as ps\n",
        "import pandas as ps\n",
        " \n",
        "# importation de  numpy as np\n",
        "import numpy as np\n",
        " \n",
        "# tableau simple\n",
        "data = np.array (['Python' , 'Djnago' , 'Tkinter' , 'PyQt' , 'numpy'])\n",
        " \n",
        "# créer la série pandas\n",
        "serie = ps.Series (data)\n",
        " \n",
        "# supprimer le dernier élément 'numpy' de la série\n",
        "newserie = serie.drop([4])\n",
        " \n",
        "# afficher la nouvelle série\n",
        "print(newserie)\n",
        " \n",
        "\"\"\"\n",
        "output:\n",
        "0     Python\n",
        "1     Djnago\n",
        "2    Tkinter\n",
        "3       PyQt\n",
        "dtype: object\n",
        "\"\"\""
      ]
    },
    {
      "cell_type": "markdown",
      "metadata": {
        "id": "0BhKVl2qS4Xv"
      },
      "source": [
        "**Exercice 4 :**    \n",
        "Reprendre l'exercice précédent **(Exercice3)** en créant cette fois-ci un programme basé sur la bibliothèque pandas python qui supprime les éléments d'index pair de la série."
      ]
    },
    {
      "cell_type": "code",
      "execution_count": 19,
      "metadata": {
        "id": "EhAJ2YS5TZyH",
        "colab": {
          "base_uri": "https://localhost:8080/",
          "height": 87
        },
        "outputId": "cef3542e-006c-4cae-a368-8bc5a7a06242"
      },
      "outputs": [
        {
          "output_type": "stream",
          "name": "stdout",
          "text": [
            "1    Djnago\n",
            "3      PyQt\n",
            "dtype: object\n"
          ]
        },
        {
          "output_type": "execute_result",
          "data": {
            "text/plain": [
              "'\\noutput:\\n1    Djnago\\n3      PyQt\\ndtype: object\\n'"
            ],
            "application/vnd.google.colaboratory.intrinsic+json": {
              "type": "string"
            }
          },
          "metadata": {},
          "execution_count": 19
        }
      ],
      "source": [
        "#soultion\n",
        "# importation de pandas as pan\n",
        "import pandas as ps\n",
        " \n",
        "# importation de  numpy as np\n",
        "import numpy as np\n",
        " \n",
        "# tableau simple\n",
        "data = np.array (['Python' , 'Djnago' , 'Tkinter' , 'PyQt' , 'numpy'])\n",
        " \n",
        "# créer la série pandas\n",
        "serie = ps.Series (data)\n",
        " \n",
        "# supprimer les éléments d'indice impairs\n",
        "for i in range(0 , len(serie)):\n",
        "    if i%2 == 0:\n",
        "        serie = serie.drop([i])\n",
        " \n",
        "# afficher la nouvelle série\n",
        "print(serie)\n",
        " \n",
        "\"\"\"\n",
        "output:\n",
        "1    Djnago\n",
        "3      PyQt\n",
        "dtype: object\n",
        "\"\"\""
      ]
    },
    {
      "cell_type": "markdown",
      "metadata": {
        "id": "wFNL_aSLT0N-"
      },
      "source": [
        "**Exercice 5 :**    \n",
        "Modfifier le programme suivant afin de supprimer la colonne 'Section' et la remplacer par la colonne: Age = [ 22 , 23 , 21 , 20 , 25 ] sans toucher à laliste data. les modifiction doivent être apportées uniquement au DataFrame df:"
      ]
    },
    {
      "cell_type": "code",
      "execution_count": null,
      "metadata": {
        "id": "5x-Le8gUUD3l"
      },
      "outputs": [],
      "source": [
        "import pandas as ps\n",
        " \n",
        "# liste des données\n",
        "data = [['Tomas' , 'tomas@gmail.com' , 'Math'], \n",
        "        ['Albert' ,'albert@gmail.com' , 'SVT' ],\n",
        "        ['Nathalie', 'nathalie@gmail.com' , 'Sc Eco'], \n",
        "        ['Roberto' ,'roberto@gmail.com' , 'Physique'],\n",
        "        ['Adam' , 'adam@gmail.com' , 'Info']]\n",
        "labels = [11 , 12, 13 , 14, 15]\n",
        " \n",
        "# création du DataFrame\n",
        "df = ps.DataFrame(data , index=labels , columns=[ 'Name' , 'Email' , 'Section'])"
      ]
    },
    {
      "cell_type": "code",
      "execution_count": 20,
      "metadata": {
        "id": "SzOIPql3UEyC",
        "colab": {
          "base_uri": "https://localhost:8080/",
          "height": 87
        },
        "outputId": "b71d1d1a-acd9-42d1-aa8f-57ceb8fde852"
      },
      "outputs": [
        {
          "output_type": "stream",
          "name": "stdout",
          "text": [
            "1    Djnago\n",
            "3      PyQt\n",
            "dtype: object\n"
          ]
        },
        {
          "output_type": "execute_result",
          "data": {
            "text/plain": [
              "'\\noutput:\\n1    Djnago\\n3      PyQt\\ndtype: object\\n'"
            ],
            "application/vnd.google.colaboratory.intrinsic+json": {
              "type": "string"
            }
          },
          "metadata": {},
          "execution_count": 20
        }
      ],
      "source": [
        "#solution\n",
        "# importation de pandas as pan\n",
        "import pandas as ps\n",
        " \n",
        "# importation de  numpy as np\n",
        "import numpy as np\n",
        " \n",
        "# tableau simple\n",
        "data = np.array (['Python' , 'Djnago' , 'Tkinter' , 'PyQt' , 'numpy'])\n",
        " \n",
        "# créer la série pandas\n",
        "serie = ps.Series (data)\n",
        " \n",
        "# supprimer les éléments d'indice impairs\n",
        "for i in range(0 , len(serie)):\n",
        "    if i%2 == 0:\n",
        "        serie = serie.drop([i])\n",
        " \n",
        "# afficher la nouvelle série\n",
        "print(serie)\n",
        " \n",
        "\"\"\"\n",
        "output:\n",
        "1    Djnago\n",
        "3      PyQt\n",
        "dtype: object\n",
        "\"\"\"\n",
        " "
      ]
    },
    {
      "cell_type": "markdown",
      "metadata": {
        "id": "UUjEdKC2fu-9"
      },
      "source": [
        "**Exercice 6 :**    \n",
        "A partir du programme suivant qui represente les données des étudiants dans un DataFrame:"
      ]
    },
    {
      "cell_type": "code",
      "execution_count": null,
      "metadata": {
        "id": "EJy5roV9f2JW"
      },
      "outputs": [],
      "source": [
        "import pandas as ps\n",
        " \n",
        "# liste des données\n",
        "data = [['Tomas' , 'tomas@gmail.com' , 'Math'], \n",
        "        ['Albert' ,'albert@gmail.com' , 'SVT' ],\n",
        "        ['Nathalie', 'nathalie@gmail.com' , 'Sc Eco'], \n",
        "        ['Roberto' ,'roberto@gmail.com' , 'Physique'],\n",
        "        ['Adam' , 'adam@gmail.com' , 'Info']]\n",
        "labels = [11 , 12, 13 , 14, 15]\n",
        " \n",
        "# création du DataFrame\n",
        "df = ps.DataFrame(data , index=labels , columns=[ 'Name' , 'Email' , 'Section'])\n",
        " \n"
      ]
    },
    {
      "cell_type": "code",
      "execution_count": 21,
      "metadata": {
        "id": "k0I_eCgMf-NR",
        "colab": {
          "base_uri": "https://localhost:8080/"
        },
        "outputId": "9dee566e-fb47-4a7f-e891-e276c3a786ee"
      },
      "outputs": [
        {
          "output_type": "stream",
          "name": "stdout",
          "text": [
            "        Name               Email   Section\n",
            "11     Tomas     tomas@gmail.com      Math\n",
            "12    Albert    albert@gmail.com       SVT\n",
            "13  Nathalie  nathalie@gmail.com    Sc Eco\n",
            "14   Roberto   roberto@gmail.com  Physique\n",
            "15      Adam      adam@gmail.com      Info\n",
            "----------------------------------------\n",
            "        Name               Email  Age\n",
            "11     Tomas     tomas@gmail.com   22\n",
            "12    Albert    albert@gmail.com   23\n",
            "13  Nathalie  nathalie@gmail.com   21\n",
            "14   Roberto   roberto@gmail.com   20\n",
            "15      Adam      adam@gmail.com   25\n"
          ]
        }
      ],
      "source": [
        "#solution\n",
        "import pandas as ps\n",
        " \n",
        "# liste des données\n",
        "data = [['Tomas' , 'tomas@gmail.com' , 'Math'], \n",
        "        ['Albert' ,'albert@gmail.com' , 'SVT' ],\n",
        "        ['Nathalie', 'nathalie@gmail.com' , 'Sc Eco'], \n",
        "        ['Roberto' ,'roberto@gmail.com' , 'Physique'],\n",
        "        ['Adam' , 'adam@gmail.com' , 'Info']]\n",
        "labels = [11 , 12, 13 , 14, 15]\n",
        " \n",
        "# création du DataFrame\n",
        "df = ps.DataFrame(data , index=labels , columns=[ 'Name' , 'Email' , 'Section'])\n",
        " \n",
        "# Afficher le DataFrame\n",
        "print(df)\n",
        "print('----------------------------------------')\n",
        " \n",
        "# supprimer la colonne 'Section'\n",
        "df.pop('Section')\n",
        " \n",
        "# Ajouter la colonne 'Age'\n",
        "df['Age'] = [ 22 , 23 , 21 , 20 , 25 ]\n",
        " \n",
        "# Afficher le DataFrame\n",
        "print(df)"
      ]
    },
    {
      "cell_type": "markdown",
      "metadata": {
        "id": "aS5gSlTzgOgt"
      },
      "source": [
        "**Exercice 7 :**    \n",
        "Ecrire un programme python pandas qui permet de sélectionner et afficher uniquement les deux colonnes 'Nom' et 'Age':"
      ]
    },
    {
      "cell_type": "code",
      "execution_count": null,
      "metadata": {
        "id": "pH3LsA3Tgas5"
      },
      "outputs": [],
      "source": [
        "dictData = {'ID' : [31, 71, 30 , 11 , 23] , \n",
        "            'Nom': ['Julia', 'Tiago', 'Charlie' , 'Alba' , 'Isaac'],  \n",
        "        'Age': [22, 21, 20, 20 , 23], \n",
        "        'Taille': [170, 190, 181 , 175 , 165]}\n",
        "# création du dataframe\n",
        "df = ps.DataFrame(dictData , index=[235 , 155 , 243 , 311 , 117])\n",
        " "
      ]
    },
    {
      "cell_type": "code",
      "execution_count": 22,
      "metadata": {
        "id": "wbHrx6TRk62j",
        "colab": {
          "base_uri": "https://localhost:8080/"
        },
        "outputId": "7f4ac9ec-6a27-4541-d685-69a279ff4cbb"
      },
      "outputs": [
        {
          "output_type": "stream",
          "name": "stdout",
          "text": [
            "['tomas@gmail.com', 'albert@gmail.com', 'nathalie@gmail.com', 'roberto@gmail.com', 'adam@gmail.com']\n"
          ]
        }
      ],
      "source": [
        "#solution\n",
        "import pandas as ps\n",
        " \n",
        "# liste des données\n",
        "data = [['Tomas' , 'tomas@gmail.com' , 'Math'], \n",
        "        ['Albert' ,'albert@gmail.com' , 'SVT' ],\n",
        "        ['Nathalie', 'nathalie@gmail.com' , 'Sc Eco'], \n",
        "        ['Roberto' ,'roberto@gmail.com' , 'Physique'],\n",
        "        ['Adam' , 'adam@gmail.com' , 'Info']]\n",
        "labels = [11 , 12, 13 , 14, 15]\n",
        " \n",
        "# création du DataFrame\n",
        "df = ps.DataFrame(data , index=labels , columns=[ 'Name' , 'Email' , 'Section'])\n",
        " \n",
        "# récupération de la liste des emails\n",
        "list_email = list(df ['Email'])\n",
        " \n",
        "# afficher la liste des emails\n",
        "print(list_email)"
      ]
    },
    {
      "cell_type": "markdown",
      "metadata": {
        "id": "eDw9myRJhJwj"
      },
      "source": [
        "**Exercice 8 :**    \n",
        "Ecrire un programme pandas python permettant de récupérer la liste des index de la série pandas suivante:"
      ]
    },
    {
      "cell_type": "code",
      "execution_count": null,
      "metadata": {
        "id": "EKjH6_kPhJUB"
      },
      "outputs": [],
      "source": [
        "data = np.array (['P', 'y', 't', 'h', 'o' , 'n'])\n",
        "s = ps.Series(data , index=[12 , 7 , 13 , 22 , 11 , 2])"
      ]
    },
    {
      "cell_type": "code",
      "execution_count": null,
      "metadata": {
        "id": "iMdzC7VQk7uz"
      },
      "outputs": [],
      "source": []
    },
    {
      "cell_type": "markdown",
      "metadata": {
        "id": "DMGEiajnjFPM"
      },
      "source": [
        "**Exercice 9 :**    \n",
        "Ecrire un programme basé sur la bibliothèque python pandas qui permet de convertir la série pandas suivante en un dictionnaire python:"
      ]
    },
    {
      "cell_type": "code",
      "execution_count": null,
      "metadata": {
        "id": "H2m-MfB3jOpV"
      },
      "outputs": [],
      "source": [
        "s = ps.Series([\"Louis\" , \"Maya\" , \"Yassmine\"  ,  \"Rosa\" , \"Tomas\"] , \n",
        "              index= [17 , 21 , 19 , 13  , 27 ])\n",
        " "
      ]
    },
    {
      "cell_type": "code",
      "execution_count": 23,
      "metadata": {
        "id": "amIc8_sDk8sA",
        "colab": {
          "base_uri": "https://localhost:8080/"
        },
        "outputId": "9ed948f7-9a4b-4c03-f1f9-b6bd33e72641"
      },
      "outputs": [
        {
          "output_type": "stream",
          "name": "stdout",
          "text": [
            "Students =  {17: 'Louis', 21: 'Maya', 19: 'Yassmine', 13: 'Rosa', 27: 'Tomas'}\n"
          ]
        }
      ],
      "source": [
        "#solution\n",
        "# importation de pandas as ps\n",
        "import pandas as ps\n",
        " \n",
        "# création de la série pandas\n",
        "s = ps.Series([\"Louis\" , \"Maya\" , \"Yassmine\"  ,  \"Rosa\" , \"Tomas\"] , \n",
        "              index= [17 , 21 , 19 , 13  , 27 ])\n",
        " \n",
        "# initialiser le dictionnaire demandé\n",
        "Students = dict({})\n",
        " \n",
        "for i in range(0 , len(s)):\n",
        "    Students[s.index[i]] = s[s.index[i]]\n",
        " \n",
        "# afficher le dictionnaire\n",
        "print(\"Students = \" , Students)"
      ]
    },
    {
      "cell_type": "markdown",
      "metadata": {
        "id": "MpfL7nOYkM18"
      },
      "source": [
        "**Exercice 10 :**    \n",
        "Ecrire un programme basé sur la bibliothèque pandas python qui permet d'ajouter le nom 'Clara' à la série pandas suivante:"
      ]
    },
    {
      "cell_type": "code",
      "execution_count": null,
      "metadata": {
        "id": "gDFM1xkAknEA"
      },
      "outputs": [],
      "source": [
        "s = pandas.Series([\"Emma\" , \"Alice\" , \"Paul\"  ,  \"Tiago\" , \"Julia\"] , \n",
        "              index= [17 , 21 , 19 , 13  , 27 ])"
      ]
    },
    {
      "cell_type": "code",
      "execution_count": null,
      "metadata": {
        "id": "9gBK8J4ok9Z3"
      },
      "outputs": [],
      "source": [
        "#solution"
      ]
    }
  ],
  "metadata": {
    "kernelspec": {
      "display_name": "Python 3",
      "name": "python3"
    },
    "language_info": {
      "name": "python"
    },
    "colab": {
      "provenance": []
    }
  },
  "nbformat": 4,
  "nbformat_minor": 0
}