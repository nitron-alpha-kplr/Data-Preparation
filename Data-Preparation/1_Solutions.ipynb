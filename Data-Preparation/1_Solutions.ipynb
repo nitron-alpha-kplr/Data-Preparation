{
  "cells": [
    {
      "cell_type": "markdown",
      "metadata": {
        "id": "gPQ9DA5VQpyP"
      },
      "source": [
        "**Exercice 1 :**    \n",
        "Créer un programme pandas Python qui traite les données du tableau suivant à l'aide d'un DataFrame et les affiches sous forme d'un tableau à l'écran:\n",
        "\n",
        "![image](https://user-images.githubusercontent.com/123748165/226333321-a26d48aa-a3d8-4d4a-8dd0-fe0745f0c81c.png)\n"
      ]
    },
    {
      "cell_type": "code",
      "execution_count": null,
      "metadata": {
        "colab": {
          "base_uri": "https://localhost:8080/"
        },
        "id": "hczTxtG5QTPn",
        "outputId": "11209f5a-faa5-4d91-f950-49e1966e68eb"
      },
      "outputs": [
        {
          "name": "stdout",
          "output_type": "stream",
          "text": [
            "   ID      Name               Email   Section\n",
            "0   1    Albert    albert@gmail.com       SVT\n",
            "1   2  Nathalie  nathalie@gmail.com    SC Eco\n",
            "2   3    Robert    robert@gmail.com      Math\n",
            "3   4    Jesika    jesika@gmail.com     Philo\n",
            "4   5      Adam      adam@gmail.com  Physique\n"
          ]
        }
      ],
      "source": [
        "# importation de la bibliothèque pandas\n",
        "import pandas as pd\n",
        " \n",
        "# représentation des données sur un dictionnaire python\n",
        "dictData = {'ID' : [1, 2, 3, 4 , 5] , \n",
        "            'Name': ['Albert' , 'Nathalie' , 'Robert' , 'Jesika' , 'Adam'] , \n",
        "            'Email': ['albert@gmail.com' , 'nathalie@gmail.com' , 'robert@gmail.com' , 'jesika@gmail.com' , 'adam@gmail.com'] , \n",
        "            'Section' : ['SVT' , 'SC Eco' , 'Math' , 'Philo' , 'Physique'] }\n",
        " \n",
        "# créer un objet dataframe\n",
        "df = ps.DataFrame(dictData)\n",
        " \n",
        "# afficher les données\n",
        "print(df)"
      ]
    },
    {
      "cell_type": "markdown",
      "metadata": {
        "id": "az373nbCRlfE"
      },
      "source": [
        "**Exercice 2 :**    \n",
        "Créer un programme pandas python qui permet de convertir la série:"
      ]
    },
    {
      "cell_type": "code",
      "execution_count": null,
      "metadata": {
        "id": "XJUCW8CsSFTs"
      },
      "outputs": [],
      "source": [
        "serie = pd.Series(np.array (['P', 'a', 'n', 'd', 'a' , 's']))"
      ]
    },
    {
      "cell_type": "markdown",
      "metadata": {
        "id": "BCWAWqktSHbC"
      },
      "source": [
        "en la chaine de caractères formée par les éléments de la série. Le programme doit renvoyer la chaine s = \"Pandas\"."
      ]
    },
    {
      "cell_type": "code",
      "execution_count": null,
      "metadata": {
        "colab": {
          "base_uri": "https://localhost:8080/"
        },
        "id": "lEZkaUupSQmM",
        "outputId": "cf0bc0f8-294b-4ce3-f482-c2bac2b9ed55"
      },
      "outputs": [
        {
          "name": "stdout",
          "output_type": "stream",
          "text": [
            "Python\n"
          ]
        }
      ],
      "source": [
        "# importation de pandas as pan\n",
        "import pandas as pan\n",
        " \n",
        "# importation de  numpy as np\n",
        "import numpy as np\n",
        " \n",
        "# tableau simple\n",
        "data = np.array (['P', 'y', 't', 'h', 'o' , 'n'])\n",
        " \n",
        "serie = pan.Series(data)\n",
        "myString = \"\"\n",
        "for i in range(0 , len(serie)):\n",
        "    myString += serie[i]\n",
        " \n",
        "# afficher la chaine   \n",
        "print(myString)"
      ]
    },
    {
      "cell_type": "markdown",
      "metadata": {
        "id": "dKGvvdBeSbc_"
      },
      "source": [
        "**Exercice 3 :**    \n",
        "Ecrire un programme pandas python qui permet de supprimer un élément de la série:"
      ]
    },
    {
      "cell_type": "code",
      "execution_count": null,
      "metadata": {
        "colab": {
          "base_uri": "https://localhost:8080/"
        },
        "id": "4nUqpIsjSmuA",
        "outputId": "c6c0546d-f073-4913-8625-83a072074b21"
      },
      "outputs": [
        {
          "data": {
            "text/plain": [
              "0     Python\n",
              "1     Djnago\n",
              "2    Tkinter\n",
              "3       PyQt\n",
              "4      numpy\n",
              "dtype: object"
            ]
          },
          "execution_count": 24,
          "metadata": {},
          "output_type": "execute_result"
        }
      ],
      "source": [
        "pd.Series(['Python' , 'Djnago' , 'Tkinter' , 'PyQt' , 'numpy'])"
      ]
    },
    {
      "cell_type": "markdown",
      "metadata": {
        "id": "G8VuSBQgSpJW"
      },
      "source": [
        "Supprimer le dernier élément à titre d'exemple."
      ]
    },
    {
      "cell_type": "code",
      "execution_count": null,
      "metadata": {
        "colab": {
          "base_uri": "https://localhost:8080/"
        },
        "id": "poXfZQb1TcGg",
        "outputId": "97c4eb03-edf4-4e48-d3e4-f1383059193e"
      },
      "outputs": [
        {
          "name": "stdout",
          "output_type": "stream",
          "text": [
            "0     Python\n",
            "1     Djnago\n",
            "2    Tkinter\n",
            "3       PyQt\n",
            "dtype: object\n"
          ]
        }
      ],
      "source": [
        "# importation de pandas as ps\n",
        "import pandas as pd\n",
        "\n",
        "# importation de  numpy as np\n",
        "import numpy as np\n",
        "\n",
        "# tableau simple\n",
        "data = np.array (['Python' , 'Djnago' , 'Tkinter' , 'PyQt' , 'numpy'])\n",
        "\n",
        "# créer la série pandas\n",
        "serie = pd.Series (data)\n",
        "\n",
        "# supprimer le dernier élément 'numpy' de la série\n",
        "newserie = serie.drop([4])\n",
        "\n",
        "# afficher la nouvelle série\n",
        "print(newserie)"
      ]
    },
    {
      "cell_type": "markdown",
      "metadata": {
        "id": "0BhKVl2qS4Xv"
      },
      "source": [
        "**Exercice 4 :**    \n",
        "Reprendre l'exercice précédent **(Exercice3)** en créant cette fois-ci un programme basé sur la bibliothèque pandas python qui supprime les éléments d'index pair de la série."
      ]
    },
    {
      "cell_type": "code",
      "execution_count": null,
      "metadata": {
        "colab": {
          "base_uri": "https://localhost:8080/"
        },
        "id": "EhAJ2YS5TZyH",
        "outputId": "4d025042-4b77-4dd4-e888-37e227db4298"
      },
      "outputs": [
        {
          "name": "stdout",
          "output_type": "stream",
          "text": [
            "1    Djnago\n",
            "3      PyQt\n",
            "dtype: object\n"
          ]
        }
      ],
      "source": [
        "# importation de pandas as pan\n",
        "import pandas as pd\n",
        " \n",
        "# importation de  numpy as np\n",
        "import numpy as np\n",
        " \n",
        "# tableau simple\n",
        "data = np.array (['Python' , 'Djnago' , 'Tkinter' , 'PyQt' , 'numpy'])\n",
        " \n",
        "# créer la série pandas\n",
        "serie = pd.Series (data)\n",
        " \n",
        "# supprimer les éléments d'indice impairs\n",
        "for i in range(0 , len(serie)):\n",
        "    if i%2 == 0:\n",
        "        serie = serie.drop([i])\n",
        " \n",
        "# afficher la nouvelle série\n",
        "print(serie)"
      ]
    },
    {
      "cell_type": "markdown",
      "metadata": {
        "id": "wFNL_aSLT0N-"
      },
      "source": [
        "**Exercice 5 :**    \n",
        "Modfifier le programme suivant afin de supprimer la colonne 'Section' et la remplacer par la colonne: Age = [ 22 , 23 , 21 , 20 , 25 ] sans toucher à laliste data. les modifiction doivent être apportées uniquement au DataFrame df:"
      ]
    },
    {
      "cell_type": "code",
      "execution_count": null,
      "metadata": {
        "id": "5x-Le8gUUD3l"
      },
      "outputs": [],
      "source": [
        "import pandas as pd\n",
        " \n",
        "# liste des données\n",
        "data = [['Tomas' , 'tomas@gmail.com' , 'Math'], \n",
        "        ['Albert' ,'albert@gmail.com' , 'SVT' ],\n",
        "        ['Nathalie', 'nathalie@gmail.com' , 'Sc Eco'], \n",
        "        ['Roberto' ,'roberto@gmail.com' , 'Physique'],\n",
        "        ['Adam' , 'adam@gmail.com' , 'Info']]\n",
        "labels = [11 , 12, 13 , 14, 15]\n",
        " \n",
        "# création du DataFrame\n",
        "df = pd.DataFrame(data , index=labels , columns=[ 'Name' , 'Email' , 'Section'])"
      ]
    },
    {
      "cell_type": "code",
      "execution_count": null,
      "metadata": {
        "colab": {
          "base_uri": "https://localhost:8080/"
        },
        "id": "SzOIPql3UEyC",
        "outputId": "5692ad5b-7bf6-4ed7-b976-a49dd3a4b328"
      },
      "outputs": [
        {
          "name": "stdout",
          "output_type": "stream",
          "text": [
            "        Name               Email   Section\n",
            "11     Tomas     tomas@gmail.com      Math\n",
            "12    Albert    albert@gmail.com       SVT\n",
            "13  Nathalie  nathalie@gmail.com    Sc Eco\n",
            "14   Roberto   roberto@gmail.com  Physique\n",
            "15      Adam      adam@gmail.com      Info\n",
            "----------------------------------------\n"
          ]
        }
      ],
      "source": [
        "import pandas as pd\n",
        "\n",
        "# liste des données\n",
        "data = [['Tomas' , 'tomas@gmail.com' , 'Math'], \n",
        "        ['Albert' ,'albert@gmail.com' , 'SVT' ],\n",
        "        ['Nathalie', 'nathalie@gmail.com' , 'Sc Eco'], \n",
        "        ['Roberto' ,'roberto@gmail.com' , 'Physique'],\n",
        "        ['Adam' , 'adam@gmail.com' , 'Info']]\n",
        "labels = [11 , 12, 13 , 14, 15]\n",
        "\n",
        "# création du DataFrame\n",
        "df = pd.DataFrame(data , index=labels , columns=[ 'Name' , 'Email' , 'Section'])\n",
        "\n",
        "# Afficher le DataFrame\n",
        "print(df)\n",
        "print('----------------------------------------')\n",
        "\n",
        "# supprimer la colonne 'Section'\n",
        "df.pop('Section')\n",
        "\n",
        "# Ajouter la colonne 'Age'\n",
        "df['Age'] = [ 22 , 23 , 21 , 20 , 25 ]\n",
        "\n",
        "# Afficher le DataFrame"
      ]
    },
    {
      "cell_type": "markdown",
      "metadata": {
        "id": "UUjEdKC2fu-9"
      },
      "source": [
        "**Exercice 6 :**    \n",
        "A partir du programme suivant qui represente les données des étudiants dans un DataFrame:"
      ]
    },
    {
      "cell_type": "code",
      "execution_count": null,
      "metadata": {
        "id": "EJy5roV9f2JW"
      },
      "outputs": [],
      "source": [
        "import pandas as pd\n",
        " \n",
        "# liste des données\n",
        "data = [['Tomas' , 'tomas@gmail.com' , 'Math'], \n",
        "        ['Albert' ,'albert@gmail.com' , 'SVT' ],\n",
        "        ['Nathalie', 'nathalie@gmail.com' , 'Sc Eco'], \n",
        "        ['Roberto' ,'roberto@gmail.com' , 'Physique'],\n",
        "        ['Adam' , 'adam@gmail.com' , 'Info']]\n",
        "labels = [11 , 12, 13 , 14, 15]\n",
        " \n",
        "# création du DataFrame\n",
        "df = pd.DataFrame(data , index=labels , columns=[ 'Name' , 'Email' , 'Section'])\n",
        " \n"
      ]
    },
    {
      "cell_type": "markdown",
      "metadata": {
        "id": "EriaXStKf5OA"
      },
      "source": [
        "Ecrire un programme qui récupère les emails des étudiants en une liste: list_emails =[ ... ] sans toucher à la liste data des données. Les manipulations doivent être apportées uniquement au niveau du DataFrame df."
      ]
    },
    {
      "cell_type": "code",
      "execution_count": null,
      "metadata": {
        "colab": {
          "base_uri": "https://localhost:8080/"
        },
        "id": "k0I_eCgMf-NR",
        "outputId": "b20c1898-321c-44e4-b13c-2658f6dbd7ac"
      },
      "outputs": [
        {
          "name": "stdout",
          "output_type": "stream",
          "text": [
            "['tomas@gmail.com', 'albert@gmail.com', 'nathalie@gmail.com', 'roberto@gmail.com', 'adam@gmail.com']\n"
          ]
        }
      ],
      "source": [
        "\n",
        "\n",
        "# liste des données\n",
        "import pandas as pd\n",
        " \n",
        "# liste des données\n",
        "data = [['Tomas' , 'tomas@gmail.com' , 'Math'], \n",
        "        ['Albert' ,'albert@gmail.com' , 'SVT' ],\n",
        "        ['Nathalie', 'nathalie@gmail.com' , 'Sc Eco'], \n",
        "        ['Roberto' ,'roberto@gmail.com' , 'Physique'],\n",
        "        ['Adam' , 'adam@gmail.com' , 'Info']]\n",
        "labels = [11 , 12, 13 , 14, 15]\n",
        " \n",
        "# création du DataFrame\n",
        "df = pd.DataFrame(data , index=labels , columns=[ 'Name' , 'Email' , 'Section'])\n",
        " \n",
        "# récupération de la liste des emails\n",
        "list_email = list(df ['Email'])\n",
        " \n",
        "# afficher la liste des emails\n",
        "print(list_email)"
      ]
    },
    {
      "cell_type": "markdown",
      "metadata": {
        "id": "aS5gSlTzgOgt"
      },
      "source": [
        "**Exercice 7 :**    \n",
        "Ecrire un programme python pandas qui permet de sélectionner et afficher uniquement les deux colonnes 'Nom' et 'Age':"
      ]
    },
    {
      "cell_type": "code",
      "execution_count": null,
      "metadata": {
        "id": "pH3LsA3Tgas5"
      },
      "outputs": [],
      "source": [
        "dictData = {'ID' : [31, 71, 30 , 11 , 23] , \n",
        "            'Nom': ['Julia', 'Tiago', 'Charlie' , 'Alba' , 'Isaac'],  \n",
        "        'Age': [22, 21, 20, 20 , 23], \n",
        "        'Taille': [170, 190, 181 , 175 , 165]}\n",
        "# création du dataframe\n",
        "df = pd.DataFrame(dictData , index=[235 , 155 , 243 , 311 , 117])\n",
        " "
      ]
    },
    {
      "cell_type": "code",
      "execution_count": null,
      "metadata": {
        "colab": {
          "base_uri": "https://localhost:8080/"
        },
        "id": "wbHrx6TRk62j",
        "outputId": "425b861e-3bb0-4159-ae73-02a6d5aaaa40"
      },
      "outputs": [
        {
          "name": "stdout",
          "output_type": "stream",
          "text": [
            "         Nom  Age\n",
            "235    Julia   22\n",
            "155    Tiago   21\n",
            "243  Charlie   20\n",
            "311     Alba   20\n",
            "117    Isaac   23\n"
          ]
        }
      ],
      "source": [
        "import pandas as pd\n",
        " \n",
        "dictData = {'ID' : [31, 71, 30 , 11 , 23] , \n",
        "            'Nom': ['Julia', 'Tiago', 'Charlie' , 'Alba' , 'Isaac'],  \n",
        "        'Age': [22, 21, 20, 20 , 23], \n",
        "        'Taille': [170, 190, 181 , 175 , 165]}\n",
        "# création du dataframe\n",
        "df = pd.DataFrame(dictData , index=[235 , 155 , 243 , 311 , 117])\n",
        " \n",
        "# Afficher uniquement les colonnes 'Nom' et 'Age'\n",
        "print(df[['Nom','Age']])"
      ]
    },
    {
      "cell_type": "markdown",
      "metadata": {
        "id": "eDw9myRJhJwj"
      },
      "source": [
        "**Exercice 8 :**    \n",
        "Ecrire un programme pandas python permettant de récupérer la liste des index de la série pandas suivante:"
      ]
    },
    {
      "cell_type": "code",
      "execution_count": null,
      "metadata": {
        "id": "EKjH6_kPhJUB"
      },
      "outputs": [],
      "source": [
        "data = np.array (['P', 'y', 't', 'h', 'o' , 'n'])\n",
        "s = pd.Series(data , index=[12 , 7 , 13 , 22 , 11 , 2])"
      ]
    },
    {
      "cell_type": "code",
      "execution_count": null,
      "metadata": {
        "colab": {
          "base_uri": "https://localhost:8080/"
        },
        "id": "iMdzC7VQk7uz",
        "outputId": "9fdd3baf-f195-43a0-83e8-be25b1c8205f"
      },
      "outputs": [
        {
          "name": "stdout",
          "output_type": "stream",
          "text": [
            "[12, 7, 13, 22, 11, 2]\n"
          ]
        }
      ],
      "source": [
        "# importation de pandas as ps\n",
        "import pandas as ps\n",
        " \n",
        "# importation de  numpy as np\n",
        "import numpy as np\n",
        " \n",
        "# tableau simple\n",
        "data = np.array (['P', 'y', 't', 'h', 'o' , 'n'])\n",
        " \n",
        "s = ps.Series(data , index=[12 , 7 , 13 , 22 , 11 , 2])\n",
        " \n",
        "# obtenir la liste des index\n",
        "list_index = list(s.index)\n",
        " \n",
        "# afficher la liste des index\n",
        "print(list_index)"
      ]
    },
    {
      "cell_type": "markdown",
      "metadata": {
        "id": "DMGEiajnjFPM"
      },
      "source": [
        "**Exercice 9 :**    \n",
        "Ecrire un programme basé sur la bibliothèque python pandas qui permet de convertir la série pandas suivante en un dictionnaire python:"
      ]
    },
    {
      "cell_type": "code",
      "execution_count": null,
      "metadata": {
        "id": "H2m-MfB3jOpV"
      },
      "outputs": [],
      "source": [
        "s = ps.Series([\"Louis\" , \"Maya\" , \"Yassmine\"  ,  \"Rosa\" , \"Tomas\"] , \n",
        "              index= [17 , 21 , 19 , 13  , 27 ])\n",
        " "
      ]
    },
    {
      "cell_type": "code",
      "execution_count": null,
      "metadata": {
        "colab": {
          "base_uri": "https://localhost:8080/"
        },
        "id": "amIc8_sDk8sA",
        "outputId": "82a6ff32-9635-4dcb-d9fd-6b2b5d7ba822"
      },
      "outputs": [
        {
          "name": "stdout",
          "output_type": "stream",
          "text": [
            "Students =  {17: 'Louis', 21: 'Maya', 19: 'Yassmine', 13: 'Rosa', 27: 'Tomas'}\n"
          ]
        }
      ],
      "source": [
        "# importation de pandas as ps\n",
        "import pandas as ps\n",
        " \n",
        "# création de la série pandas\n",
        "s = ps.Series([\"Louis\" , \"Maya\" , \"Yassmine\"  ,  \"Rosa\" , \"Tomas\"] , \n",
        "              index= [17 , 21 , 19 , 13  , 27 ])\n",
        " \n",
        "# initialiser le dictionnaire demandé\n",
        "Students = dict({})\n",
        " \n",
        "for i in range(0 , len(s)):\n",
        "    Students[s.index[i]] = s[s.index[i]]\n",
        " \n",
        "# afficher le dictionnaire\n",
        "print(\"Students = \" , Students)"
      ]
    },
    {
      "cell_type": "markdown",
      "metadata": {
        "id": "MpfL7nOYkM18"
      },
      "source": [
        "**Exercice 10 :**    \n",
        "Ecrire un programme basé sur la bibliothèque pandas python qui permet d'ajouter le nom 'Clara' à la série pandas suivante:"
      ]
    },
    {
      "cell_type": "code",
      "execution_count": null,
      "metadata": {
        "id": "gDFM1xkAknEA"
      },
      "outputs": [],
      "source": [
        "s = pd.Series([\"Emma\" , \"Alice\" , \"Paul\"  ,  \"Tiago\" , \"Julia\"] , \n",
        "              index= [17 , 21 , 19 , 13  , 27 ])"
      ]
    },
    {
      "cell_type": "code",
      "execution_count": null,
      "metadata": {
        "colab": {
          "base_uri": "https://localhost:8080/"
        },
        "id": "9gBK8J4ok9Z3",
        "outputId": "80b72f05-0a43-4bd5-994a-1b465e8e490b"
      },
      "outputs": [
        {
          "name": "stdout",
          "output_type": "stream",
          "text": [
            "17     Emma\n",
            "21    Alice\n",
            "19     Paul\n",
            "13    Tiago\n",
            "27    Julia\n",
            "11    Clara\n",
            "dtype: object\n"
          ]
        }
      ],
      "source": [
        "# importation de pandas as ps\n",
        "import pandas as pd\n",
        " \n",
        "# création de la série pandas\n",
        "s = pd.Series([\"Emma\" , \"Alice\" , \"Paul\"  ,  \"Tiago\" , \"Julia\"] , \n",
        "              index= [17 , 21 , 19 , 13  , 27 ])\n",
        " \n",
        "# ajout de l'élément demandé\n",
        "s2 = s.append(ps.Series([\"Clara\"] , index=[11]))\n",
        " \n",
        "# afficher la nouvelle série pandas\n",
        "print(s2)"
      ]
    }
  ],
  "metadata": {
    "kernelspec": {
      "display_name": "Python 3",
      "name": "python3"
    },
    "language_info": {
      "name": "python"
    },
    "colab": {
      "provenance": []
    }
  },
  "nbformat": 4,
  "nbformat_minor": 0
}